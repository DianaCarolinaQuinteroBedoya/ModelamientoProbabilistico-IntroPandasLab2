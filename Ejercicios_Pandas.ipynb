{
 "cells": [
  {
   "cell_type": "markdown",
   "source": "Docente: Juan Pablo Ospina\r\nAsignatura: Modelamiento Probabilístico\r\nEstudiantes: Diana Carolina Quintero Bedoya \r\nTema: Laboratorio 2 - Pandas\r\nFecha de entrega: 28/08/2022",
   "metadata": {
    "is_collapsed": false,
    "cell_id": "abb6035ca44a4ecca90bb4a974c192fd",
    "tags": [],
    "formattedRanges": [
     {
      "type": "marks",
      "fromCodePoint": 0,
      "toCodePoint": 8,
      "marks": {
       "bold": true
      }
     },
     {
      "type": "marks",
      "fromCodePoint": 28,
      "toCodePoint": 39,
      "marks": {
       "bold": true
      }
     },
     {
      "type": "marks",
      "fromCodePoint": 69,
      "toCodePoint": 81,
      "marks": {
       "bold": true
      }
     },
     {
      "type": "marks",
      "fromCodePoint": 115,
      "toCodePoint": 120,
      "marks": {
       "bold": true
      }
     },
     {
      "type": "marks",
      "fromCodePoint": 145,
      "toCodePoint": 163,
      "marks": {
       "bold": true
      }
     }
    ],
    "deepnote_cell_type": "text-cell-p"
   }
  },
  {
   "cell_type": "markdown",
   "source": "# __Series__\n",
   "metadata": {
    "id": "x1ag3vM9NWX6",
    "cell_id": "b24ad066-5e8a-4c54-b16f-31c03aa9978d",
    "deepnote_cell_type": "markdown",
    "deepnote_cell_height": 82
   }
  },
  {
   "cell_type": "code",
   "metadata": {
    "id": "-ni5zXRGN9j9",
    "cell_id": "00001-94fac863-0db3-4117-99b1-316ebac0f54e",
    "deepnote_to_be_reexecuted": false,
    "source_hash": "b7dcc9c8",
    "execution_start": 1661721856469,
    "execution_millis": 2713925,
    "deepnote_cell_type": "code",
    "deepnote_cell_height": 94
   },
   "source": "import numpy as np\nimport pandas as pd",
   "outputs": [],
   "execution_count": null
  },
  {
   "cell_type": "markdown",
   "source": "## __Creando series__",
   "metadata": {
    "id": "hzUxCK0ZNh32",
    "cell_id": "00002-3333c566-6388-41e7-a60a-4408c5349670",
    "deepnote_cell_type": "markdown",
    "deepnote_cell_height": 70
   }
  },
  {
   "cell_type": "markdown",
   "source": "Declare una serie vacia",
   "metadata": {
    "id": "_GkfBUunNo6L",
    "cell_id": "00003-08035fff-cdc8-46f0-9b29-d6841554817b",
    "deepnote_cell_type": "markdown",
    "deepnote_cell_height": 52.390625
   }
  },
  {
   "cell_type": "code",
   "metadata": {
    "id": "F17mo-deNMSH",
    "cell_id": "00004-50b2263c-fe43-4684-8c57-75ccc2e84432",
    "deepnote_to_be_reexecuted": false,
    "source_hash": "6afd6cdd",
    "execution_start": 1661721856512,
    "execution_millis": 0,
    "deepnote_cell_type": "code",
    "deepnote_cell_height": 218.5625,
    "deepnote_output_heights": [
     null,
     20.1875
    ]
   },
   "source": "# Solución propuesta\nserieV = pd.Series()\nserieV",
   "outputs": [
    {
     "name": "stderr",
     "text": "/tmp/ipykernel_1362/2310101970.py:2: DeprecationWarning: The default dtype for empty Series will be 'object' instead of 'float64' in a future version. Specify a dtype explicitly to silence this warning.\n  serieV = pd.Series()\n",
     "output_type": "stream"
    },
    {
     "output_type": "execute_result",
     "execution_count": 2,
     "data": {
      "text/plain": "Series([], dtype: float64)"
     },
     "metadata": {}
    }
   ],
   "execution_count": null
  },
  {
   "cell_type": "markdown",
   "source": "Dada la lista `X = ['A','B','C', 'D']` conviertala a un serie de Pandas\n\n\n",
   "metadata": {
    "id": "vcs2o83iN__w",
    "cell_id": "00005-e6474139-5f9e-4d0d-a991-9da984bbff6f",
    "deepnote_cell_type": "markdown",
    "deepnote_cell_height": 52.390625
   }
  },
  {
   "cell_type": "code",
   "metadata": {
    "id": "QfOhPE-sOL-T",
    "cell_id": "00006-8f508124-39c5-44e2-974f-50075e75f50f",
    "deepnote_to_be_reexecuted": false,
    "source_hash": "23c479ff",
    "execution_start": 1661721856516,
    "execution_millis": 2713971,
    "deepnote_cell_type": "code",
    "deepnote_cell_height": 242.9375,
    "deepnote_output_heights": [
     96.9375
    ]
   },
   "source": "# Solución propuesta\nx = np.array(['A','B','C', 'D'])\nserieV = pd.Series(x)\nserieV",
   "outputs": [
    {
     "output_type": "execute_result",
     "execution_count": 3,
     "data": {
      "text/plain": "0    A\n1    B\n2    C\n3    D\ndtype: object"
     },
     "metadata": {}
    }
   ],
   "execution_count": null
  },
  {
   "cell_type": "markdown",
   "source": "Asignele el nombre  `'Letras'` a la serie `X`",
   "metadata": {
    "id": "rwmE_AdZOXoW",
    "cell_id": "00007-dff7ab2b-3893-46a7-8746-80603eb1a774",
    "deepnote_cell_type": "markdown",
    "deepnote_cell_height": 52.390625
   }
  },
  {
   "cell_type": "code",
   "metadata": {
    "id": "47BBSFgYOQgo",
    "cell_id": "00008-3de249c7-acc9-47c3-a8c5-3aa98fed3c3b",
    "deepnote_to_be_reexecuted": false,
    "source_hash": "7ef449bd",
    "execution_start": 1661721856532,
    "execution_millis": 2713916,
    "deepnote_cell_type": "code",
    "deepnote_cell_height": 94
   },
   "source": "# Solución propuesta\nx = pd.Series(serieV, name='Letras')",
   "outputs": [],
   "execution_count": null
  },
  {
   "cell_type": "markdown",
   "source": "Muestre los valores de la serie `X`",
   "metadata": {
    "id": "8NRfsOupOceJ",
    "cell_id": "00009-016f148c-a32f-4f28-9bb4-00614f3aa2a2",
    "deepnote_cell_type": "markdown",
    "deepnote_cell_height": 52.390625
   }
  },
  {
   "cell_type": "code",
   "metadata": {
    "id": "qNyPu78WOisZ",
    "colab": {
     "base_uri": "https://localhost:8080/"
    },
    "outputId": "906a7526-398a-4779-ee37-f44d0d6e286d",
    "cell_id": "00010-a75b42b3-27d8-4f71-b10a-9e28d2a66e51",
    "deepnote_to_be_reexecuted": false,
    "source_hash": "c03554ea",
    "execution_start": 1661721856561,
    "execution_millis": 2713940,
    "deepnote_cell_type": "code",
    "deepnote_cell_height": 205.9375
   },
   "source": "# Solución propuesta\nprint(x)",
   "outputs": [
    {
     "name": "stdout",
     "text": "0    A\n1    B\n2    C\n3    D\nName: Letras, dtype: object\n",
     "output_type": "stream"
    }
   ],
   "execution_count": null
  },
  {
   "cell_type": "markdown",
   "source": "## __Indexación__",
   "metadata": {
    "id": "ZkrskiOrOj-2",
    "cell_id": "00011-0f2fa9c4-d097-47d3-b0b5-6e82707a26d9",
    "deepnote_cell_type": "markdown",
    "deepnote_cell_height": 70
   }
  },
  {
   "cell_type": "markdown",
   "source": "Asigne los índices `[primero, segundo, tercero, cuarto]` a la serie `X`",
   "metadata": {
    "id": "WHaFFhwoOzih",
    "cell_id": "00012-c4e9dd95-c648-4367-8be1-2644d3032ff8",
    "deepnote_cell_type": "markdown",
    "deepnote_cell_height": 52.390625
   }
  },
  {
   "cell_type": "code",
   "metadata": {
    "id": "wWQ5bHMhPAbQ",
    "colab": {
     "base_uri": "https://localhost:8080/"
    },
    "outputId": "baf10d08-6978-4dbb-95db-aae950421b99",
    "cell_id": "00013-8914c509-7abf-4afc-9101-9a93d6b8b94c",
    "deepnote_to_be_reexecuted": false,
    "source_hash": "84eaf350",
    "execution_start": 1661721856583,
    "execution_millis": 2713959,
    "deepnote_cell_type": "code",
    "deepnote_cell_height": 247.9375,
    "deepnote_output_heights": [
     96.9375
    ]
   },
   "source": " # Solución propuesta\nx = pd.Series(['A','B','C','D'], index=['primero','segundo','tercer','cuarto'])\nx\n",
   "outputs": [
    {
     "output_type": "execute_result",
     "execution_count": 6,
     "data": {
      "text/plain": "primero    A\nsegundo    B\ntercer     C\ncuarto     D\ndtype: object"
     },
     "metadata": {}
    }
   ],
   "execution_count": null
  },
  {
   "cell_type": "markdown",
   "source": "Imprima el primer elemento de la serie `X` (utilice diferentes métodos)\n\n",
   "metadata": {
    "id": "Q2v10uXKPCO-",
    "cell_id": "00014-ac38dc92-8d58-4e81-aaf4-6e5c66ba380c",
    "deepnote_cell_type": "markdown",
    "deepnote_cell_height": 52.390625
   }
  },
  {
   "cell_type": "code",
   "metadata": {
    "id": "UTmKUSdpPB9_",
    "colab": {
     "base_uri": "https://localhost:8080/"
    },
    "outputId": "85c9992d-fadc-48e7-9454-8e7cfa3ff840",
    "cell_id": "00015-6f57fada-f649-4621-be86-3f45dcbf7e3d",
    "deepnote_to_be_reexecuted": false,
    "source_hash": "553de8aa",
    "execution_start": 1661721856586,
    "execution_millis": 2713920,
    "deepnote_cell_type": "code",
    "deepnote_cell_height": 149.375,
    "deepnote_output_heights": [
     39.375
    ]
   },
   "source": "# Solución propuesta\nx.head(1)",
   "outputs": [
    {
     "output_type": "execute_result",
     "execution_count": 7,
     "data": {
      "text/plain": "primero    A\ndtype: object"
     },
     "metadata": {}
    }
   ],
   "execution_count": null
  },
  {
   "cell_type": "code",
   "metadata": {
    "cell_id": "14187b188d3448ac886e9863645548b9",
    "tags": [],
    "deepnote_to_be_reexecuted": false,
    "source_hash": "aa47ed40",
    "execution_start": 1661721856636,
    "execution_millis": 2713909,
    "deepnote_cell_type": "code",
    "deepnote_cell_height": 112.1875,
    "deepnote_output_heights": [
     20.1875
    ]
   },
   "source": "x['primero']",
   "outputs": [
    {
     "output_type": "execute_result",
     "execution_count": 8,
     "data": {
      "text/plain": "'A'"
     },
     "metadata": {}
    }
   ],
   "execution_count": null
  },
  {
   "cell_type": "markdown",
   "source": "Imprima el primer y el último de la serie `X` (utilice diferentes métodos)",
   "metadata": {
    "id": "GM4jJb7dP2UM",
    "cell_id": "00016-bb42a24d-43a4-43ff-ad2d-9f4952b07579",
    "deepnote_cell_type": "markdown",
    "deepnote_cell_height": 52.390625
   }
  },
  {
   "cell_type": "code",
   "metadata": {
    "id": "PTgudDVvP1rK",
    "cell_id": "00017-05ed9c8e-de60-4a0c-8bef-323c4009e1a6",
    "deepnote_to_be_reexecuted": false,
    "source_hash": "cc8b02f4",
    "execution_start": 1661721856637,
    "execution_millis": 4,
    "deepnote_cell_type": "code",
    "deepnote_cell_height": 185.375,
    "deepnote_output_heights": [
     39.375
    ]
   },
   "source": "# Solución propuesta\n\nx.head(1)\n",
   "outputs": [
    {
     "output_type": "execute_result",
     "execution_count": 9,
     "data": {
      "text/plain": "primero    A\ndtype: object"
     },
     "metadata": {}
    }
   ],
   "execution_count": null
  },
  {
   "cell_type": "code",
   "metadata": {
    "cell_id": "753e37aafd4e47bab9ace4a8ac84c3b0",
    "tags": [],
    "deepnote_to_be_reexecuted": false,
    "source_hash": "aa47ed40",
    "execution_start": 1661721856638,
    "execution_millis": 3,
    "deepnote_cell_type": "code",
    "deepnote_cell_height": 112.1875,
    "deepnote_output_heights": [
     20.1875
    ]
   },
   "source": "x['primero']",
   "outputs": [
    {
     "output_type": "execute_result",
     "execution_count": 10,
     "data": {
      "text/plain": "'A'"
     },
     "metadata": {}
    }
   ],
   "execution_count": null
  },
  {
   "cell_type": "code",
   "metadata": {
    "cell_id": "b04b2518ce16406a8db1a1da8c2458c6",
    "tags": [],
    "deepnote_to_be_reexecuted": false,
    "source_hash": "e19b4015",
    "execution_start": 1661721856678,
    "execution_millis": 2713896,
    "deepnote_cell_type": "code",
    "deepnote_cell_height": 131.375,
    "deepnote_output_heights": [
     39.375
    ]
   },
   "source": "x.tail(1)",
   "outputs": [
    {
     "output_type": "execute_result",
     "execution_count": 11,
     "data": {
      "text/plain": "cuarto    D\ndtype: object"
     },
     "metadata": {}
    }
   ],
   "execution_count": null
  },
  {
   "cell_type": "code",
   "metadata": {
    "cell_id": "f6116845ec464ff08b9923541d98c36c",
    "tags": [],
    "deepnote_to_be_reexecuted": false,
    "source_hash": "4a9af43c",
    "execution_start": 1661721856679,
    "execution_millis": 5,
    "deepnote_cell_type": "code",
    "deepnote_cell_height": 112.1875,
    "deepnote_output_heights": [
     20.1875
    ]
   },
   "source": "x['cuarto']",
   "outputs": [
    {
     "output_type": "execute_result",
     "execution_count": 12,
     "data": {
      "text/plain": "'D'"
     },
     "metadata": {}
    }
   ],
   "execution_count": null
  },
  {
   "cell_type": "markdown",
   "source": "Imprima todos los elementos intermedios de la serie `X` (utilice diferentes métodos)",
   "metadata": {
    "id": "DjQeveZAQDwX",
    "cell_id": "00018-a6db6a71-b75d-4a3c-b046-d7d23a03cfaa",
    "deepnote_cell_type": "markdown",
    "deepnote_cell_height": 52.390625
   }
  },
  {
   "cell_type": "code",
   "metadata": {
    "cell_id": "38764cacd4834c208704497a555ace07",
    "tags": [],
    "deepnote_to_be_reexecuted": false,
    "source_hash": "5bd799b0",
    "execution_start": 1661721856689,
    "execution_millis": 2713891,
    "deepnote_cell_type": "code",
    "deepnote_cell_height": 112.1875,
    "deepnote_output_heights": [
     20.1875
    ]
   },
   "source": "x['segundo']",
   "outputs": [
    {
     "output_type": "execute_result",
     "execution_count": 13,
     "data": {
      "text/plain": "'B'"
     },
     "metadata": {}
    }
   ],
   "execution_count": null
  },
  {
   "cell_type": "code",
   "metadata": {
    "cell_id": "e9d9fc4c5b6547b3a25a95ef02c54d0e",
    "tags": [],
    "deepnote_to_be_reexecuted": false,
    "source_hash": "460ee99a",
    "execution_start": 1661721856691,
    "execution_millis": 2713897,
    "deepnote_cell_type": "code",
    "deepnote_cell_height": 112.1875,
    "deepnote_output_heights": [
     20.1875
    ]
   },
   "source": "x['tercer']",
   "outputs": [
    {
     "output_type": "execute_result",
     "execution_count": 14,
     "data": {
      "text/plain": "'C'"
     },
     "metadata": {}
    }
   ],
   "execution_count": null
  },
  {
   "cell_type": "code",
   "metadata": {
    "cell_id": "d8eb1c66534c46118138711c800a926a",
    "tags": [],
    "deepnote_to_be_reexecuted": false,
    "source_hash": "43b66d47",
    "execution_start": 1661721856699,
    "execution_millis": 2713905,
    "deepnote_cell_type": "code",
    "deepnote_cell_height": 112.1875,
    "deepnote_output_heights": [
     20.1875
    ]
   },
   "source": "x.get(1)",
   "outputs": [
    {
     "output_type": "execute_result",
     "execution_count": 15,
     "data": {
      "text/plain": "'B'"
     },
     "metadata": {}
    }
   ],
   "execution_count": null
  },
  {
   "cell_type": "code",
   "metadata": {
    "cell_id": "36df91b171f04f3891ed93de2c4e483e",
    "tags": [],
    "deepnote_to_be_reexecuted": false,
    "source_hash": "dc7a5f6d",
    "execution_start": 1661721856707,
    "execution_millis": 2713864,
    "deepnote_cell_type": "code",
    "deepnote_cell_height": 112.1875,
    "deepnote_output_heights": [
     20.1875
    ]
   },
   "source": "x.get(2)",
   "outputs": [
    {
     "output_type": "execute_result",
     "execution_count": 16,
     "data": {
      "text/plain": "'C'"
     },
     "metadata": {}
    }
   ],
   "execution_count": null
  },
  {
   "cell_type": "markdown",
   "source": "Imprima todos los elementos de la serie `X` en orden inverso (utilice diferentes métodos)",
   "metadata": {
    "id": "mzubqZDxPHc-",
    "cell_id": "00020-179fa25a-4a94-4419-b600-7fabd5f0c9bb",
    "deepnote_cell_type": "markdown",
    "deepnote_cell_height": 52.390625
   }
  },
  {
   "cell_type": "code",
   "metadata": {
    "id": "TXFK5CCFQxh5",
    "colab": {
     "base_uri": "https://localhost:8080/"
    },
    "outputId": "7c9cbea5-6d0b-4136-c6e6-dd8643108aa4",
    "cell_id": "00021-e780680f-6197-442c-a9e3-1dd6c32c36c3",
    "deepnote_to_be_reexecuted": false,
    "source_hash": "bd2ae3dd",
    "execution_start": 1661721856722,
    "execution_millis": 2713864,
    "deepnote_cell_type": "code",
    "deepnote_cell_height": 203.75
   },
   "source": "# Solución propuesta\nfor i in reversed(x):\n        print(i)",
   "outputs": [
    {
     "name": "stdout",
     "text": "D\nC\nB\nA\n",
     "output_type": "stream"
    }
   ],
   "execution_count": null
  },
  {
   "cell_type": "code",
   "metadata": {
    "cell_id": "925b83dc2de2445887c679171ccde0c4",
    "tags": [],
    "deepnote_to_be_reexecuted": false,
    "source_hash": "58f565c6",
    "execution_start": 1661721856775,
    "execution_millis": 6,
    "deepnote_cell_type": "code",
    "deepnote_cell_height": 130.1875,
    "deepnote_output_heights": [
     20.1875
    ]
   },
   "source": "inversa = list(reversed(x))\ninversa",
   "outputs": [
    {
     "output_type": "execute_result",
     "execution_count": 18,
     "data": {
      "text/plain": "['D', 'C', 'B', 'A']"
     },
     "metadata": {}
    }
   ],
   "execution_count": null
  },
  {
   "cell_type": "code",
   "metadata": {
    "cell_id": "71836d1fb49147f3ae8834d3fdf3ebd4",
    "tags": [],
    "deepnote_to_be_reexecuted": false,
    "source_hash": "85800e1",
    "execution_start": 1661721856776,
    "execution_millis": 5,
    "deepnote_cell_type": "code",
    "deepnote_cell_height": 206.9375,
    "deepnote_output_heights": [
     96.9375
    ]
   },
   "source": "rever = x[::-1]\nrever",
   "outputs": [
    {
     "output_type": "execute_result",
     "execution_count": 19,
     "data": {
      "text/plain": "cuarto     D\ntercer     C\nsegundo    B\nprimero    A\ndtype: object"
     },
     "metadata": {}
    }
   ],
   "execution_count": null
  },
  {
   "cell_type": "markdown",
   "source": "Imprima el primero y el último elemento de la serie `X` (utilice diferentes métodos)",
   "metadata": {
    "id": "JI1NZ56KQ1ID",
    "cell_id": "00022-f93282f7-8087-45a9-8495-4a3c3d3cf9c2",
    "deepnote_cell_type": "markdown",
    "deepnote_cell_height": 52.390625
   }
  },
  {
   "cell_type": "code",
   "metadata": {
    "id": "t34jOU1HRUta",
    "cell_id": "00023-50c7bcc8-d1ca-46fa-a237-f0c1d4e01887",
    "deepnote_to_be_reexecuted": false,
    "source_hash": "c64c0c0c",
    "execution_start": 1661721856777,
    "execution_millis": 4,
    "deepnote_cell_type": "code",
    "deepnote_cell_height": 149.375,
    "deepnote_output_heights": [
     39.375
    ]
   },
   "source": "# Solución propuesta\nrever.head(1)",
   "outputs": [
    {
     "output_type": "execute_result",
     "execution_count": 20,
     "data": {
      "text/plain": "cuarto    D\ndtype: object"
     },
     "metadata": {}
    }
   ],
   "execution_count": null
  },
  {
   "cell_type": "code",
   "metadata": {
    "cell_id": "f12094e9e0ae4aa8bfc898349bd40d84",
    "tags": [],
    "deepnote_to_be_reexecuted": false,
    "source_hash": "433f7598",
    "execution_start": 1661721856779,
    "execution_millis": 10,
    "deepnote_cell_type": "code",
    "deepnote_cell_height": 112.1875,
    "deepnote_output_heights": [
     20.1875
    ]
   },
   "source": "rever.get(0)",
   "outputs": [
    {
     "output_type": "execute_result",
     "execution_count": 21,
     "data": {
      "text/plain": "'D'"
     },
     "metadata": {}
    }
   ],
   "execution_count": null
  },
  {
   "cell_type": "code",
   "metadata": {
    "cell_id": "bdc1add9914048269fd73a43ff7eb0f1",
    "tags": [],
    "deepnote_to_be_reexecuted": false,
    "source_hash": "1b76d1b",
    "execution_start": 1661721856792,
    "execution_millis": 12,
    "deepnote_cell_type": "code",
    "deepnote_cell_height": 112.1875,
    "deepnote_output_heights": [
     20.1875
    ]
   },
   "source": "rever['primero']",
   "outputs": [
    {
     "output_type": "execute_result",
     "execution_count": 22,
     "data": {
      "text/plain": "'A'"
     },
     "metadata": {}
    }
   ],
   "execution_count": null
  },
  {
   "cell_type": "code",
   "metadata": {
    "cell_id": "bb74eb2238c34ea2be9ecc28b2a3de1a",
    "tags": [],
    "deepnote_to_be_reexecuted": false,
    "source_hash": "eaf23790",
    "execution_start": 1661721856803,
    "execution_millis": 6,
    "deepnote_cell_type": "code",
    "deepnote_cell_height": 112.1875,
    "deepnote_output_heights": [
     20.1875
    ]
   },
   "source": "rever.get(3)",
   "outputs": [
    {
     "output_type": "execute_result",
     "execution_count": 23,
     "data": {
      "text/plain": "'A'"
     },
     "metadata": {}
    }
   ],
   "execution_count": null
  },
  {
   "cell_type": "code",
   "metadata": {
    "cell_id": "33d5b11048ab486d8e4fc058e2e3880a",
    "tags": [],
    "deepnote_to_be_reexecuted": false,
    "source_hash": "d0ea846a",
    "execution_start": 1661721856839,
    "execution_millis": 8,
    "deepnote_cell_type": "code",
    "deepnote_cell_height": 131.375,
    "deepnote_output_heights": [
     39.375
    ]
   },
   "source": "rever.tail(1)",
   "outputs": [
    {
     "output_type": "execute_result",
     "execution_count": 24,
     "data": {
      "text/plain": "primero    A\ndtype: object"
     },
     "metadata": {}
    }
   ],
   "execution_count": null
  },
  {
   "cell_type": "code",
   "metadata": {
    "cell_id": "d70aef25455a4dffacbdcfecec28e713",
    "tags": [],
    "deepnote_to_be_reexecuted": false,
    "source_hash": "420265ba",
    "execution_start": 1661721856845,
    "execution_millis": 7,
    "deepnote_cell_type": "code",
    "deepnote_cell_height": 112.1875,
    "deepnote_output_heights": [
     20.1875
    ]
   },
   "source": "rever['cuarto']",
   "outputs": [
    {
     "output_type": "execute_result",
     "execution_count": 25,
     "data": {
      "text/plain": "'D'"
     },
     "metadata": {}
    }
   ],
   "execution_count": null
  },
  {
   "cell_type": "markdown",
   "source": "## __Manipulando series__\n",
   "metadata": {
    "id": "a-M5enBRRNGY",
    "cell_id": "00024-c6f85baf-729d-434e-a909-1df9fe5eb1d3",
    "deepnote_cell_type": "markdown",
    "deepnote_cell_height": 70
   }
  },
  {
   "cell_type": "markdown",
   "source": "Cambie el tipo de datos de la siguiente serie a `float`",
   "metadata": {
    "id": "V-ZdrebgRYhu",
    "cell_id": "00025-a3bfaba9-5cd0-4cf1-b337-caaeb3fad285",
    "deepnote_cell_type": "markdown",
    "deepnote_cell_height": 52.390625
   }
  },
  {
   "cell_type": "code",
   "metadata": {
    "cell_id": "f931925147f14989bfdc2fd1dcea2718",
    "tags": [],
    "deepnote_to_be_reexecuted": false,
    "source_hash": "eb7c0b91",
    "execution_start": 1661721856886,
    "execution_millis": 5,
    "deepnote_cell_type": "code",
    "deepnote_cell_height": 355.5,
    "deepnote_output_heights": [
     null,
     116.125
    ]
   },
   "source": "ser_a_float = pd.Series()\nser_a_float = pd.Series([1,2,3,4,5], index=['first','second','third','fourth','fifth'])\nser_a_float = pd.Series(ser_a_float)\nx = pd.to_numeric(ser_a_float, errors='coerce').astype('float64')\nx",
   "outputs": [
    {
     "name": "stderr",
     "text": "/tmp/ipykernel_1362/1574195441.py:1: DeprecationWarning: The default dtype for empty Series will be 'object' instead of 'float64' in a future version. Specify a dtype explicitly to silence this warning.\n  ser_a_float = pd.Series()\n",
     "output_type": "stream"
    },
    {
     "output_type": "execute_result",
     "execution_count": 26,
     "data": {
      "text/plain": "first     1.0\nsecond    2.0\nthird     3.0\nfourth    4.0\nfifth     5.0\ndtype: float64"
     },
     "metadata": {}
    }
   ],
   "execution_count": null
  },
  {
   "cell_type": "markdown",
   "source": "Ordene los valores de la serie `X`",
   "metadata": {
    "id": "1MDS-oeKRvaB",
    "cell_id": "00027-833b82d9-acd6-424e-9d2f-b70de3ccf794",
    "deepnote_cell_type": "markdown",
    "deepnote_cell_height": 52.390625
   }
  },
  {
   "cell_type": "code",
   "metadata": {
    "id": "iWcg2ttuR2Hh",
    "colab": {
     "base_uri": "https://localhost:8080/"
    },
    "outputId": "39fcee9a-71df-462c-94ab-52cd42911c21",
    "cell_id": "00028-7f358c8d-a8d6-446c-9dcd-cd52d0f4ec07",
    "deepnote_to_be_reexecuted": false,
    "source_hash": "1d54cdac",
    "execution_start": 1661721856887,
    "execution_millis": 4,
    "deepnote_cell_type": "code",
    "deepnote_cell_height": 244.125,
    "deepnote_output_heights": [
     116.125
    ]
   },
   "source": "# Solución propuesta\nx = ser_a_float.sort_values(ascending = True) \nx ",
   "outputs": [
    {
     "output_type": "execute_result",
     "execution_count": 27,
     "data": {
      "text/plain": "first     1\nsecond    2\nthird     3\nfourth    4\nfifth     5\ndtype: int64"
     },
     "metadata": {}
    }
   ],
   "execution_count": null
  },
  {
   "cell_type": "markdown",
   "source": "Asigne el valor de `10` al quinto elemento de la serie `X`",
   "metadata": {
    "id": "2ceGcEx8R2pX",
    "cell_id": "00029-6f183f37-dcad-430b-9816-e201f3cc574a",
    "deepnote_cell_type": "markdown",
    "deepnote_cell_height": 52.390625
   }
  },
  {
   "cell_type": "code",
   "metadata": {
    "id": "v_WjGB3wR-sV",
    "colab": {
     "base_uri": "https://localhost:8080/"
    },
    "outputId": "af62e61c-01cc-4621-aeba-47fca3634943",
    "cell_id": "00030-48d38ec3-1c04-4807-94d7-87e5f990b236",
    "deepnote_to_be_reexecuted": false,
    "source_hash": "42463ae8",
    "execution_start": 1661721856888,
    "execution_millis": 15,
    "deepnote_cell_type": "code",
    "deepnote_cell_height": 244.125,
    "deepnote_output_heights": [
     116.125
    ]
   },
   "source": "# Solución propuesta\nx[4]=10\nx",
   "outputs": [
    {
     "output_type": "execute_result",
     "execution_count": 28,
     "data": {
      "text/plain": "first      1\nsecond     2\nthird      3\nfourth     4\nfifth     10\ndtype: int64"
     },
     "metadata": {}
    }
   ],
   "execution_count": null
  },
  {
   "cell_type": "markdown",
   "source": "Asigne el valor de `0` a todos los elementos intermedios de la serie `X`. Utilice diferentes métodos en la solución propuesta",
   "metadata": {
    "id": "GiZ3Sn3KSFWu",
    "cell_id": "00031-a95ca792-a9eb-4c67-9f4a-6e72d3d7af42",
    "deepnote_cell_type": "markdown",
    "deepnote_cell_height": 74.78125
   }
  },
  {
   "cell_type": "code",
   "metadata": {
    "id": "qIfQ5_AySE-2",
    "colab": {
     "base_uri": "https://localhost:8080/"
    },
    "outputId": "4d7d6ef2-49f8-467e-a15a-5ca44cb5a31b",
    "cell_id": "00032-db3564a2-f3c0-41a7-95c9-a24b75f13ca9",
    "deepnote_to_be_reexecuted": false,
    "source_hash": "627a1856",
    "execution_start": 1661721856904,
    "execution_millis": 25,
    "deepnote_cell_type": "code",
    "deepnote_cell_height": 368.5,
    "deepnote_output_heights": [
     null,
     116.125
    ]
   },
   "source": "# Solución propuesta\nx = pd.Series()\nx = pd.Series([1,2,3,4,5], index=['A','B','C','D','E'])\nx = pd.to_numeric(x, errors='coerce').astype('int64')\nx['B','C','D'] = 0\nx",
   "outputs": [
    {
     "name": "stderr",
     "text": "/tmp/ipykernel_1362/689168727.py:2: DeprecationWarning: The default dtype for empty Series will be 'object' instead of 'float64' in a future version. Specify a dtype explicitly to silence this warning.\n  x = pd.Series()\n",
     "output_type": "stream"
    },
    {
     "output_type": "execute_result",
     "execution_count": 29,
     "data": {
      "text/plain": "A    1\nB    0\nC    0\nD    0\nE    5\ndtype: int64"
     },
     "metadata": {}
    }
   ],
   "execution_count": null
  },
  {
   "cell_type": "markdown",
   "source": "Sume $5$ a cada uno de los elementos de la serie `X` ",
   "metadata": {
    "id": "fr1JbTnaWcWM",
    "cell_id": "00033-1cc91b97-5675-474a-ac51-860437b3fdf7",
    "deepnote_cell_type": "markdown",
    "deepnote_cell_height": 52.390625
   }
  },
  {
   "cell_type": "code",
   "metadata": {
    "id": "m4p7q_T-Worc",
    "colab": {
     "base_uri": "https://localhost:8080/"
    },
    "outputId": "44b58f2f-cef2-4188-ea16-81167410c6f1",
    "cell_id": "00034-27616270-edef-417b-9d99-ade50d0ba462",
    "deepnote_to_be_reexecuted": false,
    "source_hash": "181d7add",
    "execution_start": 1661721856934,
    "execution_millis": 15,
    "deepnote_cell_type": "code",
    "deepnote_cell_height": 244.125,
    "deepnote_output_heights": [
     116.125
    ]
   },
   "source": "# Solución propuesta\nx = pd.Series([1,2,3,4,5], index=['A','B','C','D','E'])\nx.apply(lambda x: x+5)",
   "outputs": [
    {
     "output_type": "execute_result",
     "execution_count": 30,
     "data": {
      "text/plain": "A     6\nB     7\nC     8\nD     9\nE    10\ndtype: int64"
     },
     "metadata": {}
    }
   ],
   "execution_count": null
  },
  {
   "cell_type": "markdown",
   "source": "## __Selección condicionada (boolean arrays)__\n",
   "metadata": {
    "id": "TaVn2jbzWw89",
    "cell_id": "00035-92720a2b-322d-497a-9e8d-02f73adb0f3e",
    "deepnote_cell_type": "markdown",
    "deepnote_cell_height": 70
   }
  },
  {
   "cell_type": "markdown",
   "source": "Dada la serie `X` cree una nueva serie donde solo aparezcan valores positivos",
   "metadata": {
    "id": "C-uLiwFyXCW2",
    "cell_id": "00036-e681e8d6-722e-42ec-ac1c-15bb3984b2ce",
    "deepnote_cell_type": "markdown",
    "deepnote_cell_height": 52.390625
   }
  },
  {
   "cell_type": "code",
   "source": "# Solución propuesta\n\nx = pd.Series()\nx = pd.Series([2,5, 6, 10], index=[1,4,5,9])\nx",
   "metadata": {
    "id": "rDnL04xtXKRU",
    "colab": {
     "base_uri": "https://localhost:8080/"
    },
    "outputId": "36aaa5e3-1ea1-40ee-c819-44bc3a8fb2a1",
    "cell_id": "00037-71fab22a-0e84-4006-83ba-1db6e92f61a1",
    "deepnote_to_be_reexecuted": false,
    "source_hash": "886e16f2",
    "execution_start": 1661721856953,
    "execution_millis": 19,
    "deepnote_cell_type": "code",
    "deepnote_cell_height": 331.3125,
    "deepnote_output_heights": [
     null,
     96.9375
    ]
   },
   "outputs": [
    {
     "name": "stderr",
     "text": "/tmp/ipykernel_1362/2313437579.py:3: DeprecationWarning: The default dtype for empty Series will be 'object' instead of 'float64' in a future version. Specify a dtype explicitly to silence this warning.\n  x = pd.Series()\n",
     "output_type": "stream"
    },
    {
     "output_type": "execute_result",
     "execution_count": 31,
     "data": {
      "text/plain": "1     2\n4     5\n5     6\n9    10\ndtype: int64"
     },
     "metadata": {}
    }
   ],
   "execution_count": null
  },
  {
   "cell_type": "markdown",
   "source": "Dada la serie `X` cree una nueva serie donde solo aparezcan valores comprendidos entre `-2` y `9`",
   "metadata": {
    "id": "9_wXLSQqX38C",
    "cell_id": "00038-05aacb87-521e-4a75-95db-9806422d5666",
    "deepnote_cell_type": "markdown",
    "deepnote_cell_height": 74.78125
   }
  },
  {
   "cell_type": "code",
   "source": "# Solución propuesta\nx = pd.Series()\nx = pd.Series([-1,2,0,5,6,0,0],index=[0,1,2,4,5,6,7])\nx",
   "metadata": {
    "id": "J9Iijm1RX2J1",
    "colab": {
     "base_uri": "https://localhost:8080/"
    },
    "outputId": "f6d53718-b6e4-456c-fe3f-e543725dd7ee",
    "cell_id": "00039-dd94abbc-8021-4d0d-8065-a254343520d3",
    "deepnote_to_be_reexecuted": false,
    "source_hash": "594c9662",
    "execution_start": 1661721856972,
    "execution_millis": 11,
    "deepnote_cell_type": "code",
    "deepnote_cell_height": 370.875,
    "deepnote_output_heights": [
     null,
     154.5
    ]
   },
   "outputs": [
    {
     "name": "stderr",
     "text": "/tmp/ipykernel_1362/3412274555.py:2: DeprecationWarning: The default dtype for empty Series will be 'object' instead of 'float64' in a future version. Specify a dtype explicitly to silence this warning.\n  x = pd.Series()\n",
     "output_type": "stream"
    },
    {
     "output_type": "execute_result",
     "execution_count": 32,
     "data": {
      "text/plain": "0   -1\n1    2\n2    0\n4    5\n5    6\n6    0\n7    0\ndtype: int64"
     },
     "metadata": {}
    }
   ],
   "execution_count": null
  },
  {
   "cell_type": "markdown",
   "source": "Dada la serie `X` cree una nueva serie donde solo aparezcan valores que son iguales a $-1$ o $0$ o son mayores que la media",
   "metadata": {
    "id": "FHUAFJZeY0s8",
    "cell_id": "00040-6a6cb63b-576c-446b-b715-95e87989adeb",
    "deepnote_cell_type": "markdown",
    "deepnote_cell_height": 74.78125
   }
  },
  {
   "cell_type": "code",
   "source": "# Solución propuesta\nx = pd.Series()\nx = pd.Series([-1,2,0,-4,5,6,0,0,-9,10],index=[0,1,2,3,4,5,6,7,8,9])\nx",
   "metadata": {
    "id": "g1giNnLrZCj0",
    "colab": {
     "base_uri": "https://localhost:8080/"
    },
    "outputId": "c2356568-aaec-4917-c4e6-c1d3adfc3b45",
    "cell_id": "00041-0231ca48-6d66-4771-a234-0f16e3c0ebb5",
    "deepnote_to_be_reexecuted": false,
    "source_hash": "2a6c0642",
    "execution_start": 1661722253751,
    "execution_millis": 2,
    "deepnote_cell_type": "code",
    "deepnote_cell_height": 428.4375,
    "deepnote_output_heights": [
     null,
     212.0625
    ]
   },
   "outputs": [
    {
     "name": "stderr",
     "text": "/tmp/ipykernel_1362/3304089876.py:2: DeprecationWarning: The default dtype for empty Series will be 'object' instead of 'float64' in a future version. Specify a dtype explicitly to silence this warning.\n  x = pd.Series()\n",
     "output_type": "stream"
    },
    {
     "output_type": "execute_result",
     "execution_count": 63,
     "data": {
      "text/plain": "0    -1\n1     2\n2     0\n3    -4\n4     5\n5     6\n6     0\n7     0\n8    -9\n9    10\ndtype: int64"
     },
     "metadata": {}
    }
   ],
   "execution_count": null
  },
  {
   "cell_type": "markdown",
   "source": "## __Estadísticas__",
   "metadata": {
    "id": "R-6Pj_9DZnxq",
    "cell_id": "00042-2a222730-b911-48f6-974c-815e49033b97",
    "deepnote_cell_type": "markdown",
    "deepnote_cell_height": 70
   }
  },
  {
   "cell_type": "markdown",
   "source": "Dada la la lista `X = [3,5,6,7,2,3,4,9,4]` encuentre la suma de todos sus elementos",
   "metadata": {
    "id": "xIdSyvFnZ6ww",
    "cell_id": "00043-53ec7081-b0b6-43a0-9508-8828aa74b0e2",
    "deepnote_cell_type": "markdown",
    "deepnote_cell_height": 52.390625
   }
  },
  {
   "cell_type": "code",
   "metadata": {
    "id": "fcG72sNgaEH4",
    "colab": {
     "base_uri": "https://localhost:8080/"
    },
    "outputId": "b0b1d168-18e3-42c1-b69c-50b7a5445715",
    "cell_id": "00044-b34a8798-d4e3-4a23-b7da-841af31173c2",
    "deepnote_to_be_reexecuted": false,
    "source_hash": "1926d120",
    "execution_start": 1661721857028,
    "execution_millis": 2713861,
    "deepnote_cell_type": "code",
    "deepnote_cell_height": 197.1875
   },
   "source": "# Solución propuesta\n\nX = [3,5,6,7,2,3,4,9,4]\n\nsuma = sum(X)\nprint (suma)",
   "outputs": [
    {
     "name": "stdout",
     "text": "43\n",
     "output_type": "stream"
    }
   ],
   "execution_count": null
  },
  {
   "cell_type": "markdown",
   "source": "Encuentre la media, la desiviación estándar, la mediana, el máximo y el mínimo de la serie",
   "metadata": {
    "id": "ulyh2Ay6aJaF",
    "cell_id": "00045-2202f227-a461-411a-9411-1036c95edab9",
    "deepnote_cell_type": "markdown",
    "deepnote_cell_height": 74.78125
   }
  },
  {
   "cell_type": "code",
   "metadata": {
    "id": "CZJPp9JjaXcS",
    "colab": {
     "base_uri": "https://localhost:8080/"
    },
    "outputId": "967ef1a2-863a-4db6-a1ba-caee04a08802",
    "cell_id": "00046-5a8fd1fb-5e39-4aef-a27e-434c6fe62680",
    "deepnote_to_be_reexecuted": false,
    "source_hash": "7ce91550",
    "execution_start": 1661721857062,
    "execution_millis": 3,
    "deepnote_cell_type": "code",
    "deepnote_cell_height": 148.1875,
    "deepnote_output_heights": [
     20.1875
    ]
   },
   "source": "# Solución propuesta\n\nnp.mean(X)",
   "outputs": [
    {
     "output_type": "execute_result",
     "execution_count": 35,
     "data": {
      "text/plain": "4.777777777777778"
     },
     "metadata": {}
    }
   ],
   "execution_count": null
  },
  {
   "cell_type": "code",
   "metadata": {
    "cell_id": "c9d4a1d851dd400398d22bae10286e67",
    "tags": [],
    "deepnote_to_be_reexecuted": false,
    "source_hash": "d3cdf121",
    "execution_start": 1661721857063,
    "execution_millis": 3,
    "deepnote_cell_type": "code",
    "deepnote_cell_height": 112.1875,
    "deepnote_output_heights": [
     20.1875
    ]
   },
   "source": "np.median(X)",
   "outputs": [
    {
     "output_type": "execute_result",
     "execution_count": 36,
     "data": {
      "text/plain": "4.0"
     },
     "metadata": {}
    }
   ],
   "execution_count": null
  },
  {
   "cell_type": "code",
   "metadata": {
    "cell_id": "84a4e4078d344cd89aaa10cb66b35e69",
    "tags": [],
    "deepnote_to_be_reexecuted": false,
    "source_hash": "d7dc2ac5",
    "execution_start": 1661721857064,
    "execution_millis": 4,
    "deepnote_cell_type": "code",
    "deepnote_cell_height": 143.1875
   },
   "source": "st_dev = np.std(X)\n\nprint(st_dev)",
   "outputs": [
    {
     "name": "stdout",
     "text": "2.096440251568134\n",
     "output_type": "stream"
    }
   ],
   "execution_count": null
  },
  {
   "cell_type": "code",
   "metadata": {
    "cell_id": "8006fb9085fb41559f8766478f87fc40",
    "tags": [],
    "deepnote_to_be_reexecuted": false,
    "source_hash": "747ab6c",
    "execution_start": 1661721857076,
    "execution_millis": 0,
    "deepnote_cell_type": "code",
    "deepnote_cell_height": 107.1875
   },
   "source": "print(max(X))",
   "outputs": [
    {
     "name": "stdout",
     "text": "9\n",
     "output_type": "stream"
    }
   ],
   "execution_count": null
  },
  {
   "cell_type": "code",
   "metadata": {
    "cell_id": "83578e708db8406bb3863470e48ff044",
    "tags": [],
    "deepnote_to_be_reexecuted": false,
    "source_hash": "48d798fd",
    "execution_start": 1661721857086,
    "execution_millis": 2713872,
    "deepnote_cell_type": "code",
    "deepnote_cell_height": 107.1875
   },
   "source": "print(min(X))",
   "outputs": [
    {
     "name": "stdout",
     "text": "2\n",
     "output_type": "stream"
    }
   ],
   "execution_count": null
  },
  {
   "cell_type": "markdown",
   "source": "# __DataFrames__\n",
   "metadata": {
    "id": "x5FZ4D89aXEL",
    "cell_id": "00047-e48f56f1-e109-4651-ad55-19e72e4dfc72",
    "deepnote_cell_type": "markdown",
    "deepnote_cell_height": 82
   }
  },
  {
   "cell_type": "markdown",
   "source": "## __Creando un DataFrame__\n",
   "metadata": {
    "id": "MaSjNFMPa4xs",
    "cell_id": "00048-306db349-e840-4bc2-b1ab-7fd91531a132",
    "deepnote_cell_type": "markdown",
    "deepnote_cell_height": 70
   }
  },
  {
   "cell_type": "markdown",
   "source": "Declare un DataFrame vacio",
   "metadata": {
    "id": "Tcsjnbx1a93I",
    "cell_id": "00049-96cb7132-d169-4e15-8cbe-ecd89b086fe7",
    "deepnote_cell_type": "markdown",
    "deepnote_cell_height": 52.390625
   }
  },
  {
   "cell_type": "code",
   "metadata": {
    "id": "8L_C2ABobCgf",
    "cell_id": "00050-b2d0539c-4257-42a3-afe5-cb90df00b50d",
    "deepnote_to_be_reexecuted": false,
    "source_hash": "ceb22f8b",
    "execution_start": 1661721857152,
    "execution_millis": 2713823,
    "deepnote_cell_type": "code",
    "deepnote_cell_height": 112
   },
   "source": "# Solución propuesta\nimport pandas as pd\ndf = pd.DataFrame()",
   "outputs": [],
   "execution_count": null
  },
  {
   "cell_type": "markdown",
   "source": "Declare un DataFrame llamado marvel_data que contenga la siguiente información",
   "metadata": {
    "id": "Uj8bZaF3lzDF",
    "cell_id": "00051-9a734a2a-f04b-4aab-8afd-30c86d37d509",
    "deepnote_cell_type": "markdown",
    "deepnote_cell_height": 52.390625
   }
  },
  {
   "cell_type": "code",
   "metadata": {
    "id": "M1bK5qfAbXdS",
    "cell_id": "00052-689c00aa-6589-4bba-a39c-f32b635dde82",
    "deepnote_to_be_reexecuted": false,
    "source_hash": "8f8f1725",
    "execution_start": 1661721857153,
    "execution_millis": 3,
    "deepnote_cell_type": "code",
    "deepnote_cell_height": 942.9375
   },
   "source": "df = marvel_data= [\n    ['Spider-Man', 'male', 1962],\n    ['Captain America', 'male', 1941],\n    ['Wolverine', 'male', 1974],\n    ['Iron Man', 'male', 1963],\n    ['Thor', 'male', 1963],\n    ['Thing', 'male', 1961],\n    ['Mister Fantastic', 'male', 1961],\n    ['Hulk', 'male', 1962],\n    ['Beast', 'male', 1963],\n    ['Invisible Woman', 'female', 1961],\n    ['Storm', 'female', 1975],\n    ['Namor', 'male', 1939],\n    ['Hawkeye', 'male', 1964],\n    ['Daredevil', 'male', 1964],\n    ['Doctor Strange', 'male', 1963],\n    ['Hank Pym', 'male', 1962],\n    ['Scarlet Witch', 'female', 1964],\n    ['Wasp', 'female', 1963],\n    ['Black Widow', 'female', 1964],\n    ['Vision', 'male', 1968]\n]\n\ndf = pd.DataFrame(marvel_data)\nprint(df)",
   "outputs": [
    {
     "name": "stdout",
     "text": "                   0       1     2\n0         Spider-Man    male  1962\n1    Captain America    male  1941\n2          Wolverine    male  1974\n3           Iron Man    male  1963\n4               Thor    male  1963\n5              Thing    male  1961\n6   Mister Fantastic    male  1961\n7               Hulk    male  1962\n8              Beast    male  1963\n9    Invisible Woman  female  1961\n10             Storm  female  1975\n11             Namor    male  1939\n12           Hawkeye    male  1964\n13         Daredevil    male  1964\n14    Doctor Strange    male  1963\n15          Hank Pym    male  1962\n16     Scarlet Witch  female  1964\n17              Wasp  female  1963\n18       Black Widow  female  1964\n19            Vision    male  1968\n",
     "output_type": "stream"
    }
   ],
   "execution_count": null
  },
  {
   "cell_type": "markdown",
   "source": "Agregue los nombres a las columnas a partir de la siguiente lista `['name', 'sex, 'first_appearance']`",
   "metadata": {
    "id": "6l582oJibo5i",
    "cell_id": "00053-a4e1eb40-cc5e-4426-a3fb-a388a74fa541",
    "deepnote_cell_type": "markdown",
    "deepnote_cell_height": 74.78125
   }
  },
  {
   "cell_type": "code",
   "metadata": {
    "id": "lAEYMaqSb44t",
    "cell_id": "00054-4f6ed58a-4213-4237-9d57-9dddd4a427e5",
    "deepnote_to_be_reexecuted": false,
    "source_hash": "36732227",
    "execution_start": 1661721857154,
    "execution_millis": 25,
    "deepnote_cell_type": "code",
    "deepnote_cell_height": 564.9375
   },
   "source": "# Solución propuesta\ndf.columns = ['name', 'sex','first_appearance']\nprint(df)\n",
   "outputs": [
    {
     "name": "stdout",
     "text": "                name     sex  first_appearance\n0         Spider-Man    male              1962\n1    Captain America    male              1941\n2          Wolverine    male              1974\n3           Iron Man    male              1963\n4               Thor    male              1963\n5              Thing    male              1961\n6   Mister Fantastic    male              1961\n7               Hulk    male              1962\n8              Beast    male              1963\n9    Invisible Woman  female              1961\n10             Storm  female              1975\n11             Namor    male              1939\n12           Hawkeye    male              1964\n13         Daredevil    male              1964\n14    Doctor Strange    male              1963\n15          Hank Pym    male              1962\n16     Scarlet Witch  female              1964\n17              Wasp  female              1963\n18       Black Widow  female              1964\n19            Vision    male              1968\n",
     "output_type": "stream"
    }
   ],
   "execution_count": null
  },
  {
   "cell_type": "markdown",
   "source": "Seleccione la columna `'name'` como los índices del DataFrame",
   "metadata": {
    "id": "ZTWsYK6Sb9oa",
    "cell_id": "00055-6b2977a0-2f09-4ff5-a301-77f11275cd83",
    "deepnote_cell_type": "markdown",
    "deepnote_cell_height": 52.390625
   }
  },
  {
   "cell_type": "code",
   "metadata": {
    "id": "pV0-FllIchkE",
    "cell_id": "00056-b1b3db33-3c50-4311-915e-aced5f32baf6",
    "deepnote_to_be_reexecuted": false,
    "source_hash": "5567ac89",
    "execution_start": 1661721857170,
    "execution_millis": 26,
    "deepnote_cell_type": "code",
    "deepnote_cell_height": 603.125
   },
   "source": "# Solución propuesta\n\ndf.set_index(['name'], inplace = True)\n\nprint(df)",
   "outputs": [
    {
     "name": "stdout",
     "text": "                     sex  first_appearance\nname                                      \nSpider-Man          male              1962\nCaptain America     male              1941\nWolverine           male              1974\nIron Man            male              1963\nThor                male              1963\nThing               male              1961\nMister Fantastic    male              1961\nHulk                male              1962\nBeast               male              1963\nInvisible Woman   female              1961\nStorm             female              1975\nNamor               male              1939\nHawkeye             male              1964\nDaredevil           male              1964\nDoctor Strange      male              1963\nHank Pym            male              1962\nScarlet Witch     female              1964\nWasp              female              1963\nBlack Widow       female              1964\nVision              male              1968\n",
     "output_type": "stream"
    }
   ],
   "execution_count": null
  },
  {
   "cell_type": "markdown",
   "source": "Elimine la columna `'name'` ya que ahora representa los índices",
   "metadata": {
    "id": "GBD9c3KCc0-h",
    "cell_id": "00057-9058bb97-f015-4b3c-b2ca-d46414102a56",
    "deepnote_cell_type": "markdown",
    "deepnote_cell_height": 52.390625
   }
  },
  {
   "cell_type": "code",
   "metadata": {
    "id": "Kd3YB9k8dFnb",
    "cell_id": "00058-55f84042-7229-47a6-b337-3398446485ae",
    "deepnote_to_be_reexecuted": false,
    "source_hash": "50578b57",
    "execution_start": 1661721857198,
    "execution_millis": 36,
    "deepnote_cell_type": "code",
    "deepnote_cell_height": 631
   },
   "source": "# Solución propuesta\nel = df.reset_index('name', drop=True)\nel",
   "outputs": [
    {
     "output_type": "execute_result",
     "execution_count": 44,
     "data": {
      "application/vnd.deepnote.dataframe.v3+json": {
       "column_count": 2,
       "row_count": 20,
       "columns": [
        {
         "name": "sex",
         "dtype": "object",
         "stats": {
          "unique_count": 2,
          "nan_count": 0,
          "categories": [
           {
            "name": "male",
            "count": 15
           },
           {
            "name": "female",
            "count": 5
           }
          ]
         }
        },
        {
         "name": "first_appearance",
         "dtype": "int64",
         "stats": {
          "unique_count": 9,
          "nan_count": 0,
          "min": "1939",
          "max": "1975",
          "histogram": [
           {
            "bin_start": 1939,
            "bin_end": 1942.6,
            "count": 2
           },
           {
            "bin_start": 1942.6,
            "bin_end": 1946.2,
            "count": 0
           },
           {
            "bin_start": 1946.2,
            "bin_end": 1949.8,
            "count": 0
           },
           {
            "bin_start": 1949.8,
            "bin_end": 1953.4,
            "count": 0
           },
           {
            "bin_start": 1953.4,
            "bin_end": 1957,
            "count": 0
           },
           {
            "bin_start": 1957,
            "bin_end": 1960.6,
            "count": 0
           },
           {
            "bin_start": 1960.6,
            "bin_end": 1964.2,
            "count": 15
           },
           {
            "bin_start": 1964.2,
            "bin_end": 1967.8,
            "count": 0
           },
           {
            "bin_start": 1967.8,
            "bin_end": 1971.4,
            "count": 1
           },
           {
            "bin_start": 1971.4,
            "bin_end": 1975,
            "count": 2
           }
          ]
         }
        },
        {
         "name": "_deepnote_index_column",
         "dtype": "int64"
        }
       ],
       "rows": [
        {
         "sex": "male",
         "first_appearance": 1962,
         "_deepnote_index_column": 0
        },
        {
         "sex": "male",
         "first_appearance": 1941,
         "_deepnote_index_column": 1
        },
        {
         "sex": "male",
         "first_appearance": 1974,
         "_deepnote_index_column": 2
        },
        {
         "sex": "male",
         "first_appearance": 1963,
         "_deepnote_index_column": 3
        },
        {
         "sex": "male",
         "first_appearance": 1963,
         "_deepnote_index_column": 4
        },
        {
         "sex": "male",
         "first_appearance": 1961,
         "_deepnote_index_column": 5
        },
        {
         "sex": "male",
         "first_appearance": 1961,
         "_deepnote_index_column": 6
        },
        {
         "sex": "male",
         "first_appearance": 1962,
         "_deepnote_index_column": 7
        },
        {
         "sex": "male",
         "first_appearance": 1963,
         "_deepnote_index_column": 8
        },
        {
         "sex": "female",
         "first_appearance": 1961,
         "_deepnote_index_column": 9
        }
       ]
      },
      "text/plain": "       sex  first_appearance\n0     male              1962\n1     male              1941\n2     male              1974\n3     male              1963\n4     male              1963\n5     male              1961\n6     male              1961\n7     male              1962\n8     male              1963\n9   female              1961\n10  female              1975\n11    male              1939\n12    male              1964\n13    male              1964\n14    male              1963\n15    male              1962\n16  female              1964\n17  female              1963\n18  female              1964\n19    male              1968",
      "text/html": "<div>\n<style scoped>\n    .dataframe tbody tr th:only-of-type {\n        vertical-align: middle;\n    }\n\n    .dataframe tbody tr th {\n        vertical-align: top;\n    }\n\n    .dataframe thead th {\n        text-align: right;\n    }\n</style>\n<table border=\"1\" class=\"dataframe\">\n  <thead>\n    <tr style=\"text-align: right;\">\n      <th></th>\n      <th>sex</th>\n      <th>first_appearance</th>\n    </tr>\n  </thead>\n  <tbody>\n    <tr>\n      <th>0</th>\n      <td>male</td>\n      <td>1962</td>\n    </tr>\n    <tr>\n      <th>1</th>\n      <td>male</td>\n      <td>1941</td>\n    </tr>\n    <tr>\n      <th>2</th>\n      <td>male</td>\n      <td>1974</td>\n    </tr>\n    <tr>\n      <th>3</th>\n      <td>male</td>\n      <td>1963</td>\n    </tr>\n    <tr>\n      <th>4</th>\n      <td>male</td>\n      <td>1963</td>\n    </tr>\n    <tr>\n      <th>5</th>\n      <td>male</td>\n      <td>1961</td>\n    </tr>\n    <tr>\n      <th>6</th>\n      <td>male</td>\n      <td>1961</td>\n    </tr>\n    <tr>\n      <th>7</th>\n      <td>male</td>\n      <td>1962</td>\n    </tr>\n    <tr>\n      <th>8</th>\n      <td>male</td>\n      <td>1963</td>\n    </tr>\n    <tr>\n      <th>9</th>\n      <td>female</td>\n      <td>1961</td>\n    </tr>\n    <tr>\n      <th>10</th>\n      <td>female</td>\n      <td>1975</td>\n    </tr>\n    <tr>\n      <th>11</th>\n      <td>male</td>\n      <td>1939</td>\n    </tr>\n    <tr>\n      <th>12</th>\n      <td>male</td>\n      <td>1964</td>\n    </tr>\n    <tr>\n      <th>13</th>\n      <td>male</td>\n      <td>1964</td>\n    </tr>\n    <tr>\n      <th>14</th>\n      <td>male</td>\n      <td>1963</td>\n    </tr>\n    <tr>\n      <th>15</th>\n      <td>male</td>\n      <td>1962</td>\n    </tr>\n    <tr>\n      <th>16</th>\n      <td>female</td>\n      <td>1964</td>\n    </tr>\n    <tr>\n      <th>17</th>\n      <td>female</td>\n      <td>1963</td>\n    </tr>\n    <tr>\n      <th>18</th>\n      <td>female</td>\n      <td>1964</td>\n    </tr>\n    <tr>\n      <th>19</th>\n      <td>male</td>\n      <td>1968</td>\n    </tr>\n  </tbody>\n</table>\n</div>"
     },
     "metadata": {}
    }
   ],
   "execution_count": null
  },
  {
   "cell_type": "markdown",
   "source": "Elimine las filas con la información de `Storm` y `Vision` ",
   "metadata": {
    "id": "xlbQPOY0dKn7",
    "cell_id": "00059-6bbd65e1-2a8c-4248-801b-937024b6b38e",
    "deepnote_cell_type": "markdown",
    "deepnote_cell_height": 52.390625
   }
  },
  {
   "cell_type": "code",
   "metadata": {
    "cell_id": "848dfc73f56640d1b52c65e50d2c7153",
    "tags": [],
    "deepnote_to_be_reexecuted": false,
    "source_hash": "9ff5b446",
    "execution_start": 1661721857233,
    "execution_millis": 19,
    "deepnote_cell_type": "code",
    "deepnote_cell_height": 508.75
   },
   "source": "eliminar = df.drop([\"Storm\",\"Vision\"])\nprint(eliminar)",
   "outputs": [
    {
     "name": "stdout",
     "text": "                     sex  first_appearance\nname                                      \nSpider-Man          male              1962\nCaptain America     male              1941\nWolverine           male              1974\nIron Man            male              1963\nThor                male              1963\nThing               male              1961\nMister Fantastic    male              1961\nHulk                male              1962\nBeast               male              1963\nInvisible Woman   female              1961\nNamor               male              1939\nHawkeye             male              1964\nDaredevil           male              1964\nDoctor Strange      male              1963\nHank Pym            male              1962\nScarlet Witch     female              1964\nWasp              female              1963\nBlack Widow       female              1964\n",
     "output_type": "stream"
    }
   ],
   "execution_count": null
  },
  {
   "cell_type": "markdown",
   "source": "## __Indexación__\n",
   "metadata": {
    "id": "DOFTbwQrdgJU",
    "cell_id": "00060-d72a9b9c-d7df-4538-a3c0-9768bb08f3bd",
    "deepnote_cell_type": "markdown",
    "deepnote_cell_height": 70
   }
  },
  {
   "cell_type": "markdown",
   "source": "Imprima las primeras 5 filas del DataFrame. (Utilice todos los métodos posibles)",
   "metadata": {
    "id": "adw3xHRQdmcu",
    "cell_id": "00061-dfba09ff-cd2f-4b26-bca2-85f3a82a21c5",
    "deepnote_cell_type": "markdown",
    "deepnote_cell_height": 52.390625
   }
  },
  {
   "cell_type": "code",
   "metadata": {
    "id": "86LIXD5YeJ4A",
    "cell_id": "00062-f4b2bfb3-af69-4a66-81ca-5d6b5ede542b",
    "deepnote_to_be_reexecuted": false,
    "source_hash": "c9e70b22",
    "execution_start": 1661721857255,
    "execution_millis": 29,
    "deepnote_cell_type": "code",
    "deepnote_cell_height": 426
   },
   "source": "# Solución propuesta\n\ndf.head(5)",
   "outputs": [
    {
     "output_type": "execute_result",
     "execution_count": 46,
     "data": {
      "application/vnd.deepnote.dataframe.v3+json": {
       "column_count": 2,
       "row_count": 5,
       "columns": [
        {
         "name": "sex",
         "dtype": "object",
         "stats": {
          "unique_count": 1,
          "nan_count": 0,
          "categories": [
           {
            "name": "male",
            "count": 5
           }
          ]
         }
        },
        {
         "name": "first_appearance",
         "dtype": "int64",
         "stats": {
          "unique_count": 4,
          "nan_count": 0,
          "min": "1941",
          "max": "1974",
          "histogram": [
           {
            "bin_start": 1941,
            "bin_end": 1944.3,
            "count": 1
           },
           {
            "bin_start": 1944.3,
            "bin_end": 1947.6,
            "count": 0
           },
           {
            "bin_start": 1947.6,
            "bin_end": 1950.9,
            "count": 0
           },
           {
            "bin_start": 1950.9,
            "bin_end": 1954.2,
            "count": 0
           },
           {
            "bin_start": 1954.2,
            "bin_end": 1957.5,
            "count": 0
           },
           {
            "bin_start": 1957.5,
            "bin_end": 1960.8,
            "count": 0
           },
           {
            "bin_start": 1960.8,
            "bin_end": 1964.1,
            "count": 3
           },
           {
            "bin_start": 1964.1,
            "bin_end": 1967.4,
            "count": 0
           },
           {
            "bin_start": 1967.4,
            "bin_end": 1970.7,
            "count": 0
           },
           {
            "bin_start": 1970.7,
            "bin_end": 1974,
            "count": 1
           }
          ]
         }
        },
        {
         "name": "_deepnote_index_column",
         "dtype": "object"
        }
       ],
       "rows": [
        {
         "sex": "male",
         "first_appearance": 1962,
         "_deepnote_index_column": "Spider-Man"
        },
        {
         "sex": "male",
         "first_appearance": 1941,
         "_deepnote_index_column": "Captain America"
        },
        {
         "sex": "male",
         "first_appearance": 1974,
         "_deepnote_index_column": "Wolverine"
        },
        {
         "sex": "male",
         "first_appearance": 1963,
         "_deepnote_index_column": "Iron Man"
        },
        {
         "sex": "male",
         "first_appearance": 1963,
         "_deepnote_index_column": "Thor"
        }
       ]
      },
      "text/plain": "                  sex  first_appearance\nname                                   \nSpider-Man       male              1962\nCaptain America  male              1941\nWolverine        male              1974\nIron Man         male              1963\nThor             male              1963",
      "text/html": "<div>\n<style scoped>\n    .dataframe tbody tr th:only-of-type {\n        vertical-align: middle;\n    }\n\n    .dataframe tbody tr th {\n        vertical-align: top;\n    }\n\n    .dataframe thead th {\n        text-align: right;\n    }\n</style>\n<table border=\"1\" class=\"dataframe\">\n  <thead>\n    <tr style=\"text-align: right;\">\n      <th></th>\n      <th>sex</th>\n      <th>first_appearance</th>\n    </tr>\n    <tr>\n      <th>name</th>\n      <th></th>\n      <th></th>\n    </tr>\n  </thead>\n  <tbody>\n    <tr>\n      <th>Spider-Man</th>\n      <td>male</td>\n      <td>1962</td>\n    </tr>\n    <tr>\n      <th>Captain America</th>\n      <td>male</td>\n      <td>1941</td>\n    </tr>\n    <tr>\n      <th>Wolverine</th>\n      <td>male</td>\n      <td>1974</td>\n    </tr>\n    <tr>\n      <th>Iron Man</th>\n      <td>male</td>\n      <td>1963</td>\n    </tr>\n    <tr>\n      <th>Thor</th>\n      <td>male</td>\n      <td>1963</td>\n    </tr>\n  </tbody>\n</table>\n</div>"
     },
     "metadata": {}
    }
   ],
   "execution_count": null
  },
  {
   "cell_type": "markdown",
   "source": "Imprima las últimas 5 filas del DataFrame. (Utilice todos los métodos posibles)",
   "metadata": {
    "id": "m7o-du6-eKqp",
    "cell_id": "00063-b240b244-12e5-48fd-954f-2c8167cf55c6",
    "deepnote_cell_type": "markdown",
    "deepnote_cell_height": 52.390625
   }
  },
  {
   "cell_type": "code",
   "metadata": {
    "id": "DC50ZdG7eQCT",
    "cell_id": "00064-c1b9b85c-1c84-4bb9-8e07-28c3848b2b1d",
    "deepnote_to_be_reexecuted": false,
    "source_hash": "5f31c010",
    "execution_start": 1661721857285,
    "execution_millis": 19,
    "deepnote_cell_type": "code",
    "deepnote_cell_height": 408
   },
   "source": "# Solución propuesta\ndf.tail(5)",
   "outputs": [
    {
     "output_type": "execute_result",
     "execution_count": 47,
     "data": {
      "application/vnd.deepnote.dataframe.v3+json": {
       "column_count": 2,
       "row_count": 5,
       "columns": [
        {
         "name": "sex",
         "dtype": "object",
         "stats": {
          "unique_count": 2,
          "nan_count": 0,
          "categories": [
           {
            "name": "female",
            "count": 3
           },
           {
            "name": "male",
            "count": 2
           }
          ]
         }
        },
        {
         "name": "first_appearance",
         "dtype": "int64",
         "stats": {
          "unique_count": 4,
          "nan_count": 0,
          "min": "1962",
          "max": "1968",
          "histogram": [
           {
            "bin_start": 1962,
            "bin_end": 1962.6,
            "count": 1
           },
           {
            "bin_start": 1962.6,
            "bin_end": 1963.2,
            "count": 1
           },
           {
            "bin_start": 1963.2,
            "bin_end": 1963.8,
            "count": 0
           },
           {
            "bin_start": 1963.8,
            "bin_end": 1964.4,
            "count": 2
           },
           {
            "bin_start": 1964.4,
            "bin_end": 1965,
            "count": 0
           },
           {
            "bin_start": 1965,
            "bin_end": 1965.6,
            "count": 0
           },
           {
            "bin_start": 1965.6,
            "bin_end": 1966.2,
            "count": 0
           },
           {
            "bin_start": 1966.2,
            "bin_end": 1966.8,
            "count": 0
           },
           {
            "bin_start": 1966.8,
            "bin_end": 1967.4,
            "count": 0
           },
           {
            "bin_start": 1967.4,
            "bin_end": 1968,
            "count": 1
           }
          ]
         }
        },
        {
         "name": "_deepnote_index_column",
         "dtype": "object"
        }
       ],
       "rows": [
        {
         "sex": "male",
         "first_appearance": 1962,
         "_deepnote_index_column": "Hank Pym"
        },
        {
         "sex": "female",
         "first_appearance": 1964,
         "_deepnote_index_column": "Scarlet Witch"
        },
        {
         "sex": "female",
         "first_appearance": 1963,
         "_deepnote_index_column": "Wasp"
        },
        {
         "sex": "female",
         "first_appearance": 1964,
         "_deepnote_index_column": "Black Widow"
        },
        {
         "sex": "male",
         "first_appearance": 1968,
         "_deepnote_index_column": "Vision"
        }
       ]
      },
      "text/plain": "                  sex  first_appearance\nname                                   \nHank Pym         male              1962\nScarlet Witch  female              1964\nWasp           female              1963\nBlack Widow    female              1964\nVision           male              1968",
      "text/html": "<div>\n<style scoped>\n    .dataframe tbody tr th:only-of-type {\n        vertical-align: middle;\n    }\n\n    .dataframe tbody tr th {\n        vertical-align: top;\n    }\n\n    .dataframe thead th {\n        text-align: right;\n    }\n</style>\n<table border=\"1\" class=\"dataframe\">\n  <thead>\n    <tr style=\"text-align: right;\">\n      <th></th>\n      <th>sex</th>\n      <th>first_appearance</th>\n    </tr>\n    <tr>\n      <th>name</th>\n      <th></th>\n      <th></th>\n    </tr>\n  </thead>\n  <tbody>\n    <tr>\n      <th>Hank Pym</th>\n      <td>male</td>\n      <td>1962</td>\n    </tr>\n    <tr>\n      <th>Scarlet Witch</th>\n      <td>female</td>\n      <td>1964</td>\n    </tr>\n    <tr>\n      <th>Wasp</th>\n      <td>female</td>\n      <td>1963</td>\n    </tr>\n    <tr>\n      <th>Black Widow</th>\n      <td>female</td>\n      <td>1964</td>\n    </tr>\n    <tr>\n      <th>Vision</th>\n      <td>male</td>\n      <td>1968</td>\n    </tr>\n  </tbody>\n</table>\n</div>"
     },
     "metadata": {}
    }
   ],
   "execution_count": null
  },
  {
   "cell_type": "markdown",
   "source": "Imprima el genero de las primeras 5 filas del DataFrame. (Utilice todos los métodos posibles)",
   "metadata": {
    "id": "MlvOPZCgecDY",
    "cell_id": "00065-f6dcdf76-666b-4f15-9642-3318dc2e805a",
    "deepnote_cell_type": "markdown",
    "deepnote_cell_height": 74.78125
   }
  },
  {
   "cell_type": "code",
   "metadata": {
    "id": "-pqycF0Zen0E",
    "cell_id": "00066-37b43959-14fc-4bac-be1e-d19dc25bf035",
    "deepnote_to_be_reexecuted": false,
    "source_hash": "e9eab470",
    "execution_start": 1661721857306,
    "execution_millis": 6,
    "deepnote_cell_type": "code",
    "deepnote_cell_height": 245.3125,
    "deepnote_output_heights": [
     135.3125
    ]
   },
   "source": "# Solución propuesta\ndf['sex'].head(5)",
   "outputs": [
    {
     "output_type": "execute_result",
     "execution_count": 48,
     "data": {
      "text/plain": "name\nSpider-Man         male\nCaptain America    male\nWolverine          male\nIron Man           male\nThor               male\nName: sex, dtype: object"
     },
     "metadata": {}
    }
   ],
   "execution_count": null
  },
  {
   "cell_type": "markdown",
   "source": "Muestre la primera aparición de todos los elementos intermedios en el DataFrame",
   "metadata": {
    "id": "umsOuviaexgx",
    "cell_id": "00067-0baa4226-c136-412c-8bc9-da6e5d5b2237",
    "deepnote_cell_type": "markdown",
    "deepnote_cell_height": 52.390625
   }
  },
  {
   "cell_type": "code",
   "source": "# Solución propuesta\ndf.iloc[1:8]",
   "metadata": {
    "id": "6RnhB5YQgDtU",
    "cell_id": "00068-3cf049e3-dab7-415c-8e42-74bbe535fa9d",
    "deepnote_to_be_reexecuted": false,
    "source_hash": "3d4d8002",
    "execution_start": 1661721857328,
    "execution_millis": 33,
    "deepnote_cell_type": "code",
    "deepnote_cell_height": 490
   },
   "outputs": [
    {
     "output_type": "execute_result",
     "execution_count": 49,
     "data": {
      "application/vnd.deepnote.dataframe.v3+json": {
       "column_count": 2,
       "row_count": 7,
       "columns": [
        {
         "name": "sex",
         "dtype": "object",
         "stats": {
          "unique_count": 1,
          "nan_count": 0,
          "categories": [
           {
            "name": "male",
            "count": 7
           }
          ]
         }
        },
        {
         "name": "first_appearance",
         "dtype": "int64",
         "stats": {
          "unique_count": 5,
          "nan_count": 0,
          "min": "1941",
          "max": "1974",
          "histogram": [
           {
            "bin_start": 1941,
            "bin_end": 1944.3,
            "count": 1
           },
           {
            "bin_start": 1944.3,
            "bin_end": 1947.6,
            "count": 0
           },
           {
            "bin_start": 1947.6,
            "bin_end": 1950.9,
            "count": 0
           },
           {
            "bin_start": 1950.9,
            "bin_end": 1954.2,
            "count": 0
           },
           {
            "bin_start": 1954.2,
            "bin_end": 1957.5,
            "count": 0
           },
           {
            "bin_start": 1957.5,
            "bin_end": 1960.8,
            "count": 0
           },
           {
            "bin_start": 1960.8,
            "bin_end": 1964.1,
            "count": 5
           },
           {
            "bin_start": 1964.1,
            "bin_end": 1967.4,
            "count": 0
           },
           {
            "bin_start": 1967.4,
            "bin_end": 1970.7,
            "count": 0
           },
           {
            "bin_start": 1970.7,
            "bin_end": 1974,
            "count": 1
           }
          ]
         }
        },
        {
         "name": "_deepnote_index_column",
         "dtype": "object"
        }
       ],
       "rows": [
        {
         "sex": "male",
         "first_appearance": 1941,
         "_deepnote_index_column": "Captain America"
        },
        {
         "sex": "male",
         "first_appearance": 1974,
         "_deepnote_index_column": "Wolverine"
        },
        {
         "sex": "male",
         "first_appearance": 1963,
         "_deepnote_index_column": "Iron Man"
        },
        {
         "sex": "male",
         "first_appearance": 1963,
         "_deepnote_index_column": "Thor"
        },
        {
         "sex": "male",
         "first_appearance": 1961,
         "_deepnote_index_column": "Thing"
        },
        {
         "sex": "male",
         "first_appearance": 1961,
         "_deepnote_index_column": "Mister Fantastic"
        },
        {
         "sex": "male",
         "first_appearance": 1962,
         "_deepnote_index_column": "Hulk"
        }
       ]
      },
      "text/plain": "                   sex  first_appearance\nname                                    \nCaptain America   male              1941\nWolverine         male              1974\nIron Man          male              1963\nThor              male              1963\nThing             male              1961\nMister Fantastic  male              1961\nHulk              male              1962",
      "text/html": "<div>\n<style scoped>\n    .dataframe tbody tr th:only-of-type {\n        vertical-align: middle;\n    }\n\n    .dataframe tbody tr th {\n        vertical-align: top;\n    }\n\n    .dataframe thead th {\n        text-align: right;\n    }\n</style>\n<table border=\"1\" class=\"dataframe\">\n  <thead>\n    <tr style=\"text-align: right;\">\n      <th></th>\n      <th>sex</th>\n      <th>first_appearance</th>\n    </tr>\n    <tr>\n      <th>name</th>\n      <th></th>\n      <th></th>\n    </tr>\n  </thead>\n  <tbody>\n    <tr>\n      <th>Captain America</th>\n      <td>male</td>\n      <td>1941</td>\n    </tr>\n    <tr>\n      <th>Wolverine</th>\n      <td>male</td>\n      <td>1974</td>\n    </tr>\n    <tr>\n      <th>Iron Man</th>\n      <td>male</td>\n      <td>1963</td>\n    </tr>\n    <tr>\n      <th>Thor</th>\n      <td>male</td>\n      <td>1963</td>\n    </tr>\n    <tr>\n      <th>Thing</th>\n      <td>male</td>\n      <td>1961</td>\n    </tr>\n    <tr>\n      <th>Mister Fantastic</th>\n      <td>male</td>\n      <td>1961</td>\n    </tr>\n    <tr>\n      <th>Hulk</th>\n      <td>male</td>\n      <td>1962</td>\n    </tr>\n  </tbody>\n</table>\n</div>"
     },
     "metadata": {}
    }
   ],
   "execution_count": null
  },
  {
   "cell_type": "markdown",
   "source": "Muestre el primer y el último elemento del DataFrame",
   "metadata": {
    "id": "GE8dsGNYgJNl",
    "cell_id": "00069-c2058fc6-7c1f-45d1-8766-0183d472a981",
    "deepnote_cell_type": "markdown",
    "deepnote_cell_height": 52.390625
   }
  },
  {
   "cell_type": "code",
   "metadata": {
    "id": "vFWgiwcKhMDY",
    "cell_id": "00070-ef1e74bb-5bef-42f2-b65d-68957fc64181",
    "deepnote_to_be_reexecuted": false,
    "source_hash": "4cfb00cb",
    "execution_start": 1661721857361,
    "execution_millis": 24,
    "deepnote_cell_type": "code",
    "deepnote_cell_height": 244
   },
   "source": "# Solución propuesta\ndf.head(1)",
   "outputs": [
    {
     "output_type": "execute_result",
     "execution_count": 50,
     "data": {
      "application/vnd.deepnote.dataframe.v3+json": {
       "column_count": 2,
       "row_count": 1,
       "columns": [
        {
         "name": "sex",
         "dtype": "object",
         "stats": {
          "unique_count": 1,
          "nan_count": 0,
          "categories": [
           {
            "name": "male",
            "count": 1
           }
          ]
         }
        },
        {
         "name": "first_appearance",
         "dtype": "int64",
         "stats": {
          "unique_count": 1,
          "nan_count": 0,
          "min": "1962",
          "max": "1962",
          "histogram": [
           {
            "bin_start": 1961.5,
            "bin_end": 1961.6,
            "count": 0
           },
           {
            "bin_start": 1961.6,
            "bin_end": 1961.7,
            "count": 0
           },
           {
            "bin_start": 1961.7,
            "bin_end": 1961.8,
            "count": 0
           },
           {
            "bin_start": 1961.8,
            "bin_end": 1961.9,
            "count": 0
           },
           {
            "bin_start": 1961.9,
            "bin_end": 1962,
            "count": 0
           },
           {
            "bin_start": 1962,
            "bin_end": 1962.1,
            "count": 1
           },
           {
            "bin_start": 1962.1,
            "bin_end": 1962.2,
            "count": 0
           },
           {
            "bin_start": 1962.2,
            "bin_end": 1962.3,
            "count": 0
           },
           {
            "bin_start": 1962.3,
            "bin_end": 1962.4,
            "count": 0
           },
           {
            "bin_start": 1962.4,
            "bin_end": 1962.5,
            "count": 0
           }
          ]
         }
        },
        {
         "name": "_deepnote_index_column",
         "dtype": "object"
        }
       ],
       "rows": [
        {
         "sex": "male",
         "first_appearance": 1962,
         "_deepnote_index_column": "Spider-Man"
        }
       ]
      },
      "text/plain": "             sex  first_appearance\nname                              \nSpider-Man  male              1962",
      "text/html": "<div>\n<style scoped>\n    .dataframe tbody tr th:only-of-type {\n        vertical-align: middle;\n    }\n\n    .dataframe tbody tr th {\n        vertical-align: top;\n    }\n\n    .dataframe thead th {\n        text-align: right;\n    }\n</style>\n<table border=\"1\" class=\"dataframe\">\n  <thead>\n    <tr style=\"text-align: right;\">\n      <th></th>\n      <th>sex</th>\n      <th>first_appearance</th>\n    </tr>\n    <tr>\n      <th>name</th>\n      <th></th>\n      <th></th>\n    </tr>\n  </thead>\n  <tbody>\n    <tr>\n      <th>Spider-Man</th>\n      <td>male</td>\n      <td>1962</td>\n    </tr>\n  </tbody>\n</table>\n</div>"
     },
     "metadata": {}
    }
   ],
   "execution_count": null
  },
  {
   "cell_type": "code",
   "metadata": {
    "cell_id": "bb00dfcffa6d45599d3b69d8e6f823ac",
    "tags": [],
    "deepnote_to_be_reexecuted": false,
    "source_hash": "5cdabee5",
    "execution_start": 1661721857388,
    "execution_millis": 17,
    "deepnote_cell_type": "code",
    "deepnote_cell_height": 226
   },
   "source": "df.tail(1)",
   "outputs": [
    {
     "output_type": "execute_result",
     "execution_count": 51,
     "data": {
      "application/vnd.deepnote.dataframe.v3+json": {
       "column_count": 2,
       "row_count": 1,
       "columns": [
        {
         "name": "sex",
         "dtype": "object",
         "stats": {
          "unique_count": 1,
          "nan_count": 0,
          "categories": [
           {
            "name": "male",
            "count": 1
           }
          ]
         }
        },
        {
         "name": "first_appearance",
         "dtype": "int64",
         "stats": {
          "unique_count": 1,
          "nan_count": 0,
          "min": "1968",
          "max": "1968",
          "histogram": [
           {
            "bin_start": 1967.5,
            "bin_end": 1967.6,
            "count": 0
           },
           {
            "bin_start": 1967.6,
            "bin_end": 1967.7,
            "count": 0
           },
           {
            "bin_start": 1967.7,
            "bin_end": 1967.8,
            "count": 0
           },
           {
            "bin_start": 1967.8,
            "bin_end": 1967.9,
            "count": 0
           },
           {
            "bin_start": 1967.9,
            "bin_end": 1968,
            "count": 0
           },
           {
            "bin_start": 1968,
            "bin_end": 1968.1,
            "count": 1
           },
           {
            "bin_start": 1968.1,
            "bin_end": 1968.2,
            "count": 0
           },
           {
            "bin_start": 1968.2,
            "bin_end": 1968.3,
            "count": 0
           },
           {
            "bin_start": 1968.3,
            "bin_end": 1968.4,
            "count": 0
           },
           {
            "bin_start": 1968.4,
            "bin_end": 1968.5,
            "count": 0
           }
          ]
         }
        },
        {
         "name": "_deepnote_index_column",
         "dtype": "object"
        }
       ],
       "rows": [
        {
         "sex": "male",
         "first_appearance": 1968,
         "_deepnote_index_column": "Vision"
        }
       ]
      },
      "text/plain": "         sex  first_appearance\nname                          \nVision  male              1968",
      "text/html": "<div>\n<style scoped>\n    .dataframe tbody tr th:only-of-type {\n        vertical-align: middle;\n    }\n\n    .dataframe tbody tr th {\n        vertical-align: top;\n    }\n\n    .dataframe thead th {\n        text-align: right;\n    }\n</style>\n<table border=\"1\" class=\"dataframe\">\n  <thead>\n    <tr style=\"text-align: right;\">\n      <th></th>\n      <th>sex</th>\n      <th>first_appearance</th>\n    </tr>\n    <tr>\n      <th>name</th>\n      <th></th>\n      <th></th>\n    </tr>\n  </thead>\n  <tbody>\n    <tr>\n      <th>Vision</th>\n      <td>male</td>\n      <td>1968</td>\n    </tr>\n  </tbody>\n</table>\n</div>"
     },
     "metadata": {}
    }
   ],
   "execution_count": null
  },
  {
   "cell_type": "markdown",
   "source": "## __Manipulando DataFrames__\n",
   "metadata": {
    "id": "HsDiki8ShSDI",
    "cell_id": "00071-132c7506-631b-49b4-8995-1349a05b05aa",
    "deepnote_cell_type": "markdown",
    "deepnote_cell_height": 70
   }
  },
  {
   "cell_type": "markdown",
   "source": "Mofique la primera aparición de `Vision` al año `1984`",
   "metadata": {
    "id": "no3NuV1fhZD_",
    "cell_id": "00072-f9470116-06b2-485b-b9c8-1b999eb63523",
    "deepnote_cell_type": "markdown",
    "deepnote_cell_height": 52.390625
   }
  },
  {
   "cell_type": "code",
   "source": "# Solución propuesta\ndf['first_appearance'] = df['first_appearance'].replace([1968], 1984)\ndf['first_appearance'].tail(1)",
   "metadata": {
    "id": "qg61X8O2hgpw",
    "cell_id": "00073-8f790b04-b454-4212-8128-2cce6f70ac21",
    "deepnote_to_be_reexecuted": false,
    "source_hash": "a2eb1843",
    "execution_start": 1661721857447,
    "execution_millis": 4,
    "deepnote_cell_type": "code",
    "deepnote_cell_height": 186.5625,
    "deepnote_output_heights": [
     58.5625
    ]
   },
   "outputs": [
    {
     "output_type": "execute_result",
     "execution_count": 52,
     "data": {
      "text/plain": "name\nVision    1984\nName: first_appearance, dtype: int64"
     },
     "metadata": {}
    }
   ],
   "execution_count": null
  },
  {
   "cell_type": "markdown",
   "source": "Agregue una columna llamada `years_since`, la cual se calculará como el número de años entre la primera aparición y la fecha actual",
   "metadata": {
    "id": "A2H8e_8khirb",
    "cell_id": "00074-67e816a5-e02d-4219-b2f7-1b1f091d4a34",
    "deepnote_cell_type": "markdown",
    "deepnote_cell_height": 74.78125
   }
  },
  {
   "cell_type": "code",
   "source": "# Solución propuesta\nfrom datetime import datetime\nnow = datetime.now()\n\ndf['years_since'] = now.year - df['first_appearance']\ndf",
   "metadata": {
    "id": "cplNZMuCh5gD",
    "cell_id": "00075-c31fbb19-2c71-4975-ba6d-d25ba66ffa8a",
    "deepnote_to_be_reexecuted": false,
    "source_hash": "cb708bae",
    "execution_start": 1661721857449,
    "execution_millis": 21,
    "deepnote_cell_type": "code",
    "deepnote_cell_height": 685
   },
   "outputs": [
    {
     "output_type": "execute_result",
     "execution_count": 53,
     "data": {
      "application/vnd.deepnote.dataframe.v3+json": {
       "column_count": 3,
       "row_count": 20,
       "columns": [
        {
         "name": "sex",
         "dtype": "object",
         "stats": {
          "unique_count": 2,
          "nan_count": 0,
          "categories": [
           {
            "name": "male",
            "count": 15
           },
           {
            "name": "female",
            "count": 5
           }
          ]
         }
        },
        {
         "name": "first_appearance",
         "dtype": "int64",
         "stats": {
          "unique_count": 9,
          "nan_count": 0,
          "min": "1939",
          "max": "1984",
          "histogram": [
           {
            "bin_start": 1939,
            "bin_end": 1943.5,
            "count": 2
           },
           {
            "bin_start": 1943.5,
            "bin_end": 1948,
            "count": 0
           },
           {
            "bin_start": 1948,
            "bin_end": 1952.5,
            "count": 0
           },
           {
            "bin_start": 1952.5,
            "bin_end": 1957,
            "count": 0
           },
           {
            "bin_start": 1957,
            "bin_end": 1961.5,
            "count": 3
           },
           {
            "bin_start": 1961.5,
            "bin_end": 1966,
            "count": 12
           },
           {
            "bin_start": 1966,
            "bin_end": 1970.5,
            "count": 0
           },
           {
            "bin_start": 1970.5,
            "bin_end": 1975,
            "count": 1
           },
           {
            "bin_start": 1975,
            "bin_end": 1979.5,
            "count": 1
           },
           {
            "bin_start": 1979.5,
            "bin_end": 1984,
            "count": 1
           }
          ]
         }
        },
        {
         "name": "years_since",
         "dtype": "int64",
         "stats": {
          "unique_count": 9,
          "nan_count": 0,
          "min": "38",
          "max": "83",
          "histogram": [
           {
            "bin_start": 38,
            "bin_end": 42.5,
            "count": 1
           },
           {
            "bin_start": 42.5,
            "bin_end": 47,
            "count": 0
           },
           {
            "bin_start": 47,
            "bin_end": 51.5,
            "count": 2
           },
           {
            "bin_start": 51.5,
            "bin_end": 56,
            "count": 0
           },
           {
            "bin_start": 56,
            "bin_end": 60.5,
            "count": 12
           },
           {
            "bin_start": 60.5,
            "bin_end": 65,
            "count": 3
           },
           {
            "bin_start": 65,
            "bin_end": 69.5,
            "count": 0
           },
           {
            "bin_start": 69.5,
            "bin_end": 74,
            "count": 0
           },
           {
            "bin_start": 74,
            "bin_end": 78.5,
            "count": 0
           },
           {
            "bin_start": 78.5,
            "bin_end": 83,
            "count": 2
           }
          ]
         }
        },
        {
         "name": "_deepnote_index_column",
         "dtype": "object"
        }
       ],
       "rows": [
        {
         "sex": "male",
         "first_appearance": 1962,
         "years_since": 60,
         "_deepnote_index_column": "Spider-Man"
        },
        {
         "sex": "male",
         "first_appearance": 1941,
         "years_since": 81,
         "_deepnote_index_column": "Captain America"
        },
        {
         "sex": "male",
         "first_appearance": 1974,
         "years_since": 48,
         "_deepnote_index_column": "Wolverine"
        },
        {
         "sex": "male",
         "first_appearance": 1963,
         "years_since": 59,
         "_deepnote_index_column": "Iron Man"
        },
        {
         "sex": "male",
         "first_appearance": 1963,
         "years_since": 59,
         "_deepnote_index_column": "Thor"
        },
        {
         "sex": "male",
         "first_appearance": 1961,
         "years_since": 61,
         "_deepnote_index_column": "Thing"
        },
        {
         "sex": "male",
         "first_appearance": 1961,
         "years_since": 61,
         "_deepnote_index_column": "Mister Fantastic"
        },
        {
         "sex": "male",
         "first_appearance": 1962,
         "years_since": 60,
         "_deepnote_index_column": "Hulk"
        },
        {
         "sex": "male",
         "first_appearance": 1963,
         "years_since": 59,
         "_deepnote_index_column": "Beast"
        },
        {
         "sex": "female",
         "first_appearance": 1961,
         "years_since": 61,
         "_deepnote_index_column": "Invisible Woman"
        }
       ]
      },
      "text/plain": "                     sex  first_appearance  years_since\nname                                                   \nSpider-Man          male              1962           60\nCaptain America     male              1941           81\nWolverine           male              1974           48\nIron Man            male              1963           59\nThor                male              1963           59\nThing               male              1961           61\nMister Fantastic    male              1961           61\nHulk                male              1962           60\nBeast               male              1963           59\nInvisible Woman   female              1961           61\nStorm             female              1975           47\nNamor               male              1939           83\nHawkeye             male              1964           58\nDaredevil           male              1964           58\nDoctor Strange      male              1963           59\nHank Pym            male              1962           60\nScarlet Witch     female              1964           58\nWasp              female              1963           59\nBlack Widow       female              1964           58\nVision              male              1984           38",
      "text/html": "<div>\n<style scoped>\n    .dataframe tbody tr th:only-of-type {\n        vertical-align: middle;\n    }\n\n    .dataframe tbody tr th {\n        vertical-align: top;\n    }\n\n    .dataframe thead th {\n        text-align: right;\n    }\n</style>\n<table border=\"1\" class=\"dataframe\">\n  <thead>\n    <tr style=\"text-align: right;\">\n      <th></th>\n      <th>sex</th>\n      <th>first_appearance</th>\n      <th>years_since</th>\n    </tr>\n    <tr>\n      <th>name</th>\n      <th></th>\n      <th></th>\n      <th></th>\n    </tr>\n  </thead>\n  <tbody>\n    <tr>\n      <th>Spider-Man</th>\n      <td>male</td>\n      <td>1962</td>\n      <td>60</td>\n    </tr>\n    <tr>\n      <th>Captain America</th>\n      <td>male</td>\n      <td>1941</td>\n      <td>81</td>\n    </tr>\n    <tr>\n      <th>Wolverine</th>\n      <td>male</td>\n      <td>1974</td>\n      <td>48</td>\n    </tr>\n    <tr>\n      <th>Iron Man</th>\n      <td>male</td>\n      <td>1963</td>\n      <td>59</td>\n    </tr>\n    <tr>\n      <th>Thor</th>\n      <td>male</td>\n      <td>1963</td>\n      <td>59</td>\n    </tr>\n    <tr>\n      <th>Thing</th>\n      <td>male</td>\n      <td>1961</td>\n      <td>61</td>\n    </tr>\n    <tr>\n      <th>Mister Fantastic</th>\n      <td>male</td>\n      <td>1961</td>\n      <td>61</td>\n    </tr>\n    <tr>\n      <th>Hulk</th>\n      <td>male</td>\n      <td>1962</td>\n      <td>60</td>\n    </tr>\n    <tr>\n      <th>Beast</th>\n      <td>male</td>\n      <td>1963</td>\n      <td>59</td>\n    </tr>\n    <tr>\n      <th>Invisible Woman</th>\n      <td>female</td>\n      <td>1961</td>\n      <td>61</td>\n    </tr>\n    <tr>\n      <th>Storm</th>\n      <td>female</td>\n      <td>1975</td>\n      <td>47</td>\n    </tr>\n    <tr>\n      <th>Namor</th>\n      <td>male</td>\n      <td>1939</td>\n      <td>83</td>\n    </tr>\n    <tr>\n      <th>Hawkeye</th>\n      <td>male</td>\n      <td>1964</td>\n      <td>58</td>\n    </tr>\n    <tr>\n      <th>Daredevil</th>\n      <td>male</td>\n      <td>1964</td>\n      <td>58</td>\n    </tr>\n    <tr>\n      <th>Doctor Strange</th>\n      <td>male</td>\n      <td>1963</td>\n      <td>59</td>\n    </tr>\n    <tr>\n      <th>Hank Pym</th>\n      <td>male</td>\n      <td>1962</td>\n      <td>60</td>\n    </tr>\n    <tr>\n      <th>Scarlet Witch</th>\n      <td>female</td>\n      <td>1964</td>\n      <td>58</td>\n    </tr>\n    <tr>\n      <th>Wasp</th>\n      <td>female</td>\n      <td>1963</td>\n      <td>59</td>\n    </tr>\n    <tr>\n      <th>Black Widow</th>\n      <td>female</td>\n      <td>1964</td>\n      <td>58</td>\n    </tr>\n    <tr>\n      <th>Vision</th>\n      <td>male</td>\n      <td>1984</td>\n      <td>38</td>\n    </tr>\n  </tbody>\n</table>\n</div>"
     },
     "metadata": {}
    }
   ],
   "execution_count": null
  },
  {
   "cell_type": "markdown",
   "source": "Agregue una columna llamada `Salary` y asigne a todos un valor de `15000 USD`",
   "metadata": {
    "id": "qGncKUHtiVxJ",
    "cell_id": "00076-f7027c22-f753-42d1-9a08-3e3f6f9a914a",
    "deepnote_cell_type": "markdown",
    "deepnote_cell_height": 52.390625
   }
  },
  {
   "cell_type": "code",
   "source": "# Solución propuesta\ndf['Salary'] = pd.Series()\ndf['Salary'].iloc[:20] = '15000 USD'\ndf",
   "metadata": {
    "id": "IG54zvgKig4c",
    "cell_id": "00077-f531c456-23a2-4db8-9136-1867fd3a0e48",
    "deepnote_to_be_reexecuted": false,
    "source_hash": "b1a2d771",
    "execution_start": 1661721857468,
    "execution_millis": 36,
    "deepnote_table_state": {
     "pageSize": 10,
     "pageIndex": 1,
     "filters": [],
     "sortBy": []
    },
    "deepnote_table_loading": false,
    "deepnote_cell_type": "code",
    "deepnote_cell_height": 820.3125
   },
   "outputs": [
    {
     "name": "stderr",
     "text": "/tmp/ipykernel_1362/3327504351.py:3: DeprecationWarning: The default dtype for empty Series will be 'object' instead of 'float64' in a future version. Specify a dtype explicitly to silence this warning.\n  df['Salary'] = pd.Series()\n/shared-libs/python3.9/py/lib/python3.9/site-packages/pandas/core/indexing.py:1637: SettingWithCopyWarning: \nA value is trying to be set on a copy of a slice from a DataFrame\n\nSee the caveats in the documentation: https://pandas.pydata.org/pandas-docs/stable/user_guide/indexing.html#returning-a-view-versus-a-copy\n  self._setitem_single_block(indexer, value, name)\n",
     "output_type": "stream"
    },
    {
     "output_type": "execute_result",
     "execution_count": 66,
     "data": {
      "application/vnd.deepnote.dataframe.v3+json": {
       "column_count": 4,
       "row_count": 20,
       "columns": [
        {
         "name": "sex",
         "dtype": "object",
         "stats": {
          "unique_count": 2,
          "nan_count": 0,
          "categories": [
           {
            "name": "male",
            "count": 15
           },
           {
            "name": "female",
            "count": 5
           }
          ]
         }
        },
        {
         "name": "first_appearance",
         "dtype": "int64",
         "stats": {
          "unique_count": 9,
          "nan_count": 0,
          "min": "1939",
          "max": "1984",
          "histogram": [
           {
            "bin_start": 1939,
            "bin_end": 1943.5,
            "count": 2
           },
           {
            "bin_start": 1943.5,
            "bin_end": 1948,
            "count": 0
           },
           {
            "bin_start": 1948,
            "bin_end": 1952.5,
            "count": 0
           },
           {
            "bin_start": 1952.5,
            "bin_end": 1957,
            "count": 0
           },
           {
            "bin_start": 1957,
            "bin_end": 1961.5,
            "count": 3
           },
           {
            "bin_start": 1961.5,
            "bin_end": 1966,
            "count": 12
           },
           {
            "bin_start": 1966,
            "bin_end": 1970.5,
            "count": 0
           },
           {
            "bin_start": 1970.5,
            "bin_end": 1975,
            "count": 1
           },
           {
            "bin_start": 1975,
            "bin_end": 1979.5,
            "count": 1
           },
           {
            "bin_start": 1979.5,
            "bin_end": 1984,
            "count": 1
           }
          ]
         }
        },
        {
         "name": "years_since",
         "dtype": "int64",
         "stats": {
          "unique_count": 9,
          "nan_count": 0,
          "min": "38",
          "max": "83",
          "histogram": [
           {
            "bin_start": 38,
            "bin_end": 42.5,
            "count": 1
           },
           {
            "bin_start": 42.5,
            "bin_end": 47,
            "count": 0
           },
           {
            "bin_start": 47,
            "bin_end": 51.5,
            "count": 2
           },
           {
            "bin_start": 51.5,
            "bin_end": 56,
            "count": 0
           },
           {
            "bin_start": 56,
            "bin_end": 60.5,
            "count": 12
           },
           {
            "bin_start": 60.5,
            "bin_end": 65,
            "count": 3
           },
           {
            "bin_start": 65,
            "bin_end": 69.5,
            "count": 0
           },
           {
            "bin_start": 69.5,
            "bin_end": 74,
            "count": 0
           },
           {
            "bin_start": 74,
            "bin_end": 78.5,
            "count": 0
           },
           {
            "bin_start": 78.5,
            "bin_end": 83,
            "count": 2
           }
          ]
         }
        },
        {
         "name": "Salary",
         "dtype": "object",
         "stats": {
          "unique_count": 1,
          "nan_count": 0,
          "categories": [
           {
            "name": "15000 USD",
            "count": 20
           }
          ]
         }
        },
        {
         "name": "_deepnote_index_column",
         "dtype": "object"
        }
       ],
       "rows": [
        {
         "sex": "female",
         "first_appearance": 1975,
         "years_since": 47,
         "Salary": "15000 USD",
         "_deepnote_index_column": "Storm"
        },
        {
         "sex": "male",
         "first_appearance": 1939,
         "years_since": 83,
         "Salary": "15000 USD",
         "_deepnote_index_column": "Namor"
        },
        {
         "sex": "male",
         "first_appearance": 1964,
         "years_since": 58,
         "Salary": "15000 USD",
         "_deepnote_index_column": "Hawkeye"
        },
        {
         "sex": "male",
         "first_appearance": 1964,
         "years_since": 58,
         "Salary": "15000 USD",
         "_deepnote_index_column": "Daredevil"
        },
        {
         "sex": "male",
         "first_appearance": 1963,
         "years_since": 59,
         "Salary": "15000 USD",
         "_deepnote_index_column": "Doctor Strange"
        },
        {
         "sex": "male",
         "first_appearance": 1962,
         "years_since": 60,
         "Salary": "15000 USD",
         "_deepnote_index_column": "Hank Pym"
        },
        {
         "sex": "female",
         "first_appearance": 1964,
         "years_since": 58,
         "Salary": "15000 USD",
         "_deepnote_index_column": "Scarlet Witch"
        },
        {
         "sex": "female",
         "first_appearance": 1963,
         "years_since": 59,
         "Salary": "15000 USD",
         "_deepnote_index_column": "Wasp"
        },
        {
         "sex": "female",
         "first_appearance": 1964,
         "years_since": 58,
         "Salary": "15000 USD",
         "_deepnote_index_column": "Black Widow"
        },
        {
         "sex": "male",
         "first_appearance": 1984,
         "years_since": 38,
         "Salary": "15000 USD",
         "_deepnote_index_column": "Vision"
        }
       ]
      },
      "text/plain": "                     sex  first_appearance  years_since     Salary\nname                                                              \nSpider-Man          male              1962           60  15000 USD\nCaptain America     male              1941           81  15000 USD\nWolverine           male              1974           48  15000 USD\nIron Man            male              1963           59  15000 USD\nThor                male              1963           59  15000 USD\nThing               male              1961           61  15000 USD\nMister Fantastic    male              1961           61  15000 USD\nHulk                male              1962           60  15000 USD\nBeast               male              1963           59  15000 USD\nInvisible Woman   female              1961           61  15000 USD\nStorm             female              1975           47  15000 USD\nNamor               male              1939           83  15000 USD\nHawkeye             male              1964           58  15000 USD\nDaredevil           male              1964           58  15000 USD\nDoctor Strange      male              1963           59  15000 USD\nHank Pym            male              1962           60  15000 USD\nScarlet Witch     female              1964           58  15000 USD\nWasp              female              1963           59  15000 USD\nBlack Widow       female              1964           58  15000 USD\nVision              male              1984           38  15000 USD",
      "text/html": "<div>\n<style scoped>\n    .dataframe tbody tr th:only-of-type {\n        vertical-align: middle;\n    }\n\n    .dataframe tbody tr th {\n        vertical-align: top;\n    }\n\n    .dataframe thead th {\n        text-align: right;\n    }\n</style>\n<table border=\"1\" class=\"dataframe\">\n  <thead>\n    <tr style=\"text-align: right;\">\n      <th></th>\n      <th>sex</th>\n      <th>first_appearance</th>\n      <th>years_since</th>\n      <th>Salary</th>\n    </tr>\n    <tr>\n      <th>name</th>\n      <th></th>\n      <th></th>\n      <th></th>\n      <th></th>\n    </tr>\n  </thead>\n  <tbody>\n    <tr>\n      <th>Spider-Man</th>\n      <td>male</td>\n      <td>1962</td>\n      <td>60</td>\n      <td>15000 USD</td>\n    </tr>\n    <tr>\n      <th>Captain America</th>\n      <td>male</td>\n      <td>1941</td>\n      <td>81</td>\n      <td>15000 USD</td>\n    </tr>\n    <tr>\n      <th>Wolverine</th>\n      <td>male</td>\n      <td>1974</td>\n      <td>48</td>\n      <td>15000 USD</td>\n    </tr>\n    <tr>\n      <th>Iron Man</th>\n      <td>male</td>\n      <td>1963</td>\n      <td>59</td>\n      <td>15000 USD</td>\n    </tr>\n    <tr>\n      <th>Thor</th>\n      <td>male</td>\n      <td>1963</td>\n      <td>59</td>\n      <td>15000 USD</td>\n    </tr>\n    <tr>\n      <th>Thing</th>\n      <td>male</td>\n      <td>1961</td>\n      <td>61</td>\n      <td>15000 USD</td>\n    </tr>\n    <tr>\n      <th>Mister Fantastic</th>\n      <td>male</td>\n      <td>1961</td>\n      <td>61</td>\n      <td>15000 USD</td>\n    </tr>\n    <tr>\n      <th>Hulk</th>\n      <td>male</td>\n      <td>1962</td>\n      <td>60</td>\n      <td>15000 USD</td>\n    </tr>\n    <tr>\n      <th>Beast</th>\n      <td>male</td>\n      <td>1963</td>\n      <td>59</td>\n      <td>15000 USD</td>\n    </tr>\n    <tr>\n      <th>Invisible Woman</th>\n      <td>female</td>\n      <td>1961</td>\n      <td>61</td>\n      <td>15000 USD</td>\n    </tr>\n    <tr>\n      <th>Storm</th>\n      <td>female</td>\n      <td>1975</td>\n      <td>47</td>\n      <td>15000 USD</td>\n    </tr>\n    <tr>\n      <th>Namor</th>\n      <td>male</td>\n      <td>1939</td>\n      <td>83</td>\n      <td>15000 USD</td>\n    </tr>\n    <tr>\n      <th>Hawkeye</th>\n      <td>male</td>\n      <td>1964</td>\n      <td>58</td>\n      <td>15000 USD</td>\n    </tr>\n    <tr>\n      <th>Daredevil</th>\n      <td>male</td>\n      <td>1964</td>\n      <td>58</td>\n      <td>15000 USD</td>\n    </tr>\n    <tr>\n      <th>Doctor Strange</th>\n      <td>male</td>\n      <td>1963</td>\n      <td>59</td>\n      <td>15000 USD</td>\n    </tr>\n    <tr>\n      <th>Hank Pym</th>\n      <td>male</td>\n      <td>1962</td>\n      <td>60</td>\n      <td>15000 USD</td>\n    </tr>\n    <tr>\n      <th>Scarlet Witch</th>\n      <td>female</td>\n      <td>1964</td>\n      <td>58</td>\n      <td>15000 USD</td>\n    </tr>\n    <tr>\n      <th>Wasp</th>\n      <td>female</td>\n      <td>1963</td>\n      <td>59</td>\n      <td>15000 USD</td>\n    </tr>\n    <tr>\n      <th>Black Widow</th>\n      <td>female</td>\n      <td>1964</td>\n      <td>58</td>\n      <td>15000 USD</td>\n    </tr>\n    <tr>\n      <th>Vision</th>\n      <td>male</td>\n      <td>1984</td>\n      <td>38</td>\n      <td>15000 USD</td>\n    </tr>\n  </tbody>\n</table>\n</div>"
     },
     "metadata": {}
    }
   ],
   "execution_count": null
  },
  {
   "cell_type": "markdown",
   "source": "## __Selección condicionada (boolean arrays)__\n",
   "metadata": {
    "id": "2Uf6FODxi_LY",
    "cell_id": "00078-de171a63-4f39-4b8e-bb59-56d5735e570e",
    "deepnote_cell_type": "markdown",
    "deepnote_cell_height": 70
   }
  },
  {
   "cell_type": "markdown",
   "source": "Muestre todos los heroes de genero femenino en el DataFrame",
   "metadata": {
    "id": "8ImXOl8AjDIk",
    "cell_id": "00079-fec734f3-a79f-4ba4-b77c-f024bd1a2f49",
    "deepnote_cell_type": "markdown",
    "deepnote_cell_height": 52.390625
   }
  },
  {
   "cell_type": "code",
   "source": "# Solución propuesta\nf = df['sex'] == 'female'\ndf[f]",
   "metadata": {
    "id": "bxliaXjAjLdE",
    "cell_id": "00080-32db6493-cb48-4bd8-b049-b042c733e6bb",
    "deepnote_to_be_reexecuted": false,
    "source_hash": "a4437a6c",
    "execution_start": 1661721857509,
    "execution_millis": 31,
    "deepnote_cell_type": "code",
    "deepnote_cell_height": 426
   },
   "outputs": [
    {
     "output_type": "execute_result",
     "execution_count": 55,
     "data": {
      "application/vnd.deepnote.dataframe.v3+json": {
       "column_count": 4,
       "row_count": 5,
       "columns": [
        {
         "name": "sex",
         "dtype": "object",
         "stats": {
          "unique_count": 1,
          "nan_count": 0,
          "categories": [
           {
            "name": "female",
            "count": 5
           }
          ]
         }
        },
        {
         "name": "first_appearance",
         "dtype": "int64",
         "stats": {
          "unique_count": 4,
          "nan_count": 0,
          "min": "1961",
          "max": "1975",
          "histogram": [
           {
            "bin_start": 1961,
            "bin_end": 1962.4,
            "count": 1
           },
           {
            "bin_start": 1962.4,
            "bin_end": 1963.8,
            "count": 1
           },
           {
            "bin_start": 1963.8,
            "bin_end": 1965.2,
            "count": 2
           },
           {
            "bin_start": 1965.2,
            "bin_end": 1966.6,
            "count": 0
           },
           {
            "bin_start": 1966.6,
            "bin_end": 1968,
            "count": 0
           },
           {
            "bin_start": 1968,
            "bin_end": 1969.4,
            "count": 0
           },
           {
            "bin_start": 1969.4,
            "bin_end": 1970.8,
            "count": 0
           },
           {
            "bin_start": 1970.8,
            "bin_end": 1972.2,
            "count": 0
           },
           {
            "bin_start": 1972.2,
            "bin_end": 1973.6,
            "count": 0
           },
           {
            "bin_start": 1973.6,
            "bin_end": 1975,
            "count": 1
           }
          ]
         }
        },
        {
         "name": "years_since",
         "dtype": "int64",
         "stats": {
          "unique_count": 4,
          "nan_count": 0,
          "min": "47",
          "max": "61",
          "histogram": [
           {
            "bin_start": 47,
            "bin_end": 48.4,
            "count": 1
           },
           {
            "bin_start": 48.4,
            "bin_end": 49.8,
            "count": 0
           },
           {
            "bin_start": 49.8,
            "bin_end": 51.2,
            "count": 0
           },
           {
            "bin_start": 51.2,
            "bin_end": 52.6,
            "count": 0
           },
           {
            "bin_start": 52.6,
            "bin_end": 54,
            "count": 0
           },
           {
            "bin_start": 54,
            "bin_end": 55.4,
            "count": 0
           },
           {
            "bin_start": 55.4,
            "bin_end": 56.8,
            "count": 0
           },
           {
            "bin_start": 56.8,
            "bin_end": 58.2,
            "count": 2
           },
           {
            "bin_start": 58.2,
            "bin_end": 59.6,
            "count": 1
           },
           {
            "bin_start": 59.6,
            "bin_end": 61,
            "count": 1
           }
          ]
         }
        },
        {
         "name": "Salary",
         "dtype": "object",
         "stats": {
          "unique_count": 1,
          "nan_count": 0,
          "categories": [
           {
            "name": "15000 USD",
            "count": 5
           }
          ]
         }
        },
        {
         "name": "_deepnote_index_column",
         "dtype": "object"
        }
       ],
       "rows": [
        {
         "sex": "female",
         "first_appearance": 1961,
         "years_since": 61,
         "Salary": "15000 USD",
         "_deepnote_index_column": "Invisible Woman"
        },
        {
         "sex": "female",
         "first_appearance": 1975,
         "years_since": 47,
         "Salary": "15000 USD",
         "_deepnote_index_column": "Storm"
        },
        {
         "sex": "female",
         "first_appearance": 1964,
         "years_since": 58,
         "Salary": "15000 USD",
         "_deepnote_index_column": "Scarlet Witch"
        },
        {
         "sex": "female",
         "first_appearance": 1963,
         "years_since": 59,
         "Salary": "15000 USD",
         "_deepnote_index_column": "Wasp"
        },
        {
         "sex": "female",
         "first_appearance": 1964,
         "years_since": 58,
         "Salary": "15000 USD",
         "_deepnote_index_column": "Black Widow"
        }
       ]
      },
      "text/plain": "                    sex  first_appearance  years_since     Salary\nname                                                             \nInvisible Woman  female              1961           61  15000 USD\nStorm            female              1975           47  15000 USD\nScarlet Witch    female              1964           58  15000 USD\nWasp             female              1963           59  15000 USD\nBlack Widow      female              1964           58  15000 USD",
      "text/html": "<div>\n<style scoped>\n    .dataframe tbody tr th:only-of-type {\n        vertical-align: middle;\n    }\n\n    .dataframe tbody tr th {\n        vertical-align: top;\n    }\n\n    .dataframe thead th {\n        text-align: right;\n    }\n</style>\n<table border=\"1\" class=\"dataframe\">\n  <thead>\n    <tr style=\"text-align: right;\">\n      <th></th>\n      <th>sex</th>\n      <th>first_appearance</th>\n      <th>years_since</th>\n      <th>Salary</th>\n    </tr>\n    <tr>\n      <th>name</th>\n      <th></th>\n      <th></th>\n      <th></th>\n      <th></th>\n    </tr>\n  </thead>\n  <tbody>\n    <tr>\n      <th>Invisible Woman</th>\n      <td>female</td>\n      <td>1961</td>\n      <td>61</td>\n      <td>15000 USD</td>\n    </tr>\n    <tr>\n      <th>Storm</th>\n      <td>female</td>\n      <td>1975</td>\n      <td>47</td>\n      <td>15000 USD</td>\n    </tr>\n    <tr>\n      <th>Scarlet Witch</th>\n      <td>female</td>\n      <td>1964</td>\n      <td>58</td>\n      <td>15000 USD</td>\n    </tr>\n    <tr>\n      <th>Wasp</th>\n      <td>female</td>\n      <td>1963</td>\n      <td>59</td>\n      <td>15000 USD</td>\n    </tr>\n    <tr>\n      <th>Black Widow</th>\n      <td>female</td>\n      <td>1964</td>\n      <td>58</td>\n      <td>15000 USD</td>\n    </tr>\n  </tbody>\n</table>\n</div>"
     },
     "metadata": {}
    }
   ],
   "execution_count": null
  },
  {
   "cell_type": "markdown",
   "source": "Muestre todos los heroes cuya aparición fue posterior a 1970",
   "metadata": {
    "id": "P2qJ9YpujpLF",
    "cell_id": "00081-5f311126-1a08-456c-ae3f-91731cd12a0a",
    "deepnote_cell_type": "markdown",
    "deepnote_cell_height": 52.390625
   }
  },
  {
   "cell_type": "code",
   "source": "# Solución propuesta\naño = df['first_appearance'] > 1970\ndf[año]",
   "metadata": {
    "id": "JWzEdTdnjm5z",
    "cell_id": "00082-ea8a039b-33de-4130-88cd-500bdd83144d",
    "deepnote_to_be_reexecuted": false,
    "source_hash": "d164ad33",
    "execution_start": 1661722095384,
    "execution_millis": 20,
    "deepnote_cell_type": "code",
    "deepnote_cell_height": 344
   },
   "outputs": [
    {
     "output_type": "execute_result",
     "execution_count": 62,
     "data": {
      "application/vnd.deepnote.dataframe.v3+json": {
       "column_count": 4,
       "row_count": 3,
       "columns": [
        {
         "name": "sex",
         "dtype": "object",
         "stats": {
          "unique_count": 2,
          "nan_count": 0,
          "categories": [
           {
            "name": "male",
            "count": 2
           },
           {
            "name": "female",
            "count": 1
           }
          ]
         }
        },
        {
         "name": "first_appearance",
         "dtype": "int64",
         "stats": {
          "unique_count": 3,
          "nan_count": 0,
          "min": "1974",
          "max": "1984",
          "histogram": [
           {
            "bin_start": 1974,
            "bin_end": 1975,
            "count": 1
           },
           {
            "bin_start": 1975,
            "bin_end": 1976,
            "count": 1
           },
           {
            "bin_start": 1976,
            "bin_end": 1977,
            "count": 0
           },
           {
            "bin_start": 1977,
            "bin_end": 1978,
            "count": 0
           },
           {
            "bin_start": 1978,
            "bin_end": 1979,
            "count": 0
           },
           {
            "bin_start": 1979,
            "bin_end": 1980,
            "count": 0
           },
           {
            "bin_start": 1980,
            "bin_end": 1981,
            "count": 0
           },
           {
            "bin_start": 1981,
            "bin_end": 1982,
            "count": 0
           },
           {
            "bin_start": 1982,
            "bin_end": 1983,
            "count": 0
           },
           {
            "bin_start": 1983,
            "bin_end": 1984,
            "count": 1
           }
          ]
         }
        },
        {
         "name": "years_since",
         "dtype": "int64",
         "stats": {
          "unique_count": 3,
          "nan_count": 0,
          "min": "38",
          "max": "48",
          "histogram": [
           {
            "bin_start": 38,
            "bin_end": 39,
            "count": 1
           },
           {
            "bin_start": 39,
            "bin_end": 40,
            "count": 0
           },
           {
            "bin_start": 40,
            "bin_end": 41,
            "count": 0
           },
           {
            "bin_start": 41,
            "bin_end": 42,
            "count": 0
           },
           {
            "bin_start": 42,
            "bin_end": 43,
            "count": 0
           },
           {
            "bin_start": 43,
            "bin_end": 44,
            "count": 0
           },
           {
            "bin_start": 44,
            "bin_end": 45,
            "count": 0
           },
           {
            "bin_start": 45,
            "bin_end": 46,
            "count": 0
           },
           {
            "bin_start": 46,
            "bin_end": 47,
            "count": 0
           },
           {
            "bin_start": 47,
            "bin_end": 48,
            "count": 2
           }
          ]
         }
        },
        {
         "name": "Salary",
         "dtype": "object",
         "stats": {
          "unique_count": 1,
          "nan_count": 0,
          "categories": [
           {
            "name": "15000 USD",
            "count": 3
           }
          ]
         }
        },
        {
         "name": "_deepnote_index_column",
         "dtype": "object"
        }
       ],
       "rows": [
        {
         "sex": "male",
         "first_appearance": 1974,
         "years_since": 48,
         "Salary": "15000 USD",
         "_deepnote_index_column": "Wolverine"
        },
        {
         "sex": "female",
         "first_appearance": 1975,
         "years_since": 47,
         "Salary": "15000 USD",
         "_deepnote_index_column": "Storm"
        },
        {
         "sex": "male",
         "first_appearance": 1984,
         "years_since": 38,
         "Salary": "15000 USD",
         "_deepnote_index_column": "Vision"
        }
       ]
      },
      "text/plain": "              sex  first_appearance  years_since     Salary\nname                                                       \nWolverine    male              1974           48  15000 USD\nStorm      female              1975           47  15000 USD\nVision       male              1984           38  15000 USD",
      "text/html": "<div>\n<style scoped>\n    .dataframe tbody tr th:only-of-type {\n        vertical-align: middle;\n    }\n\n    .dataframe tbody tr th {\n        vertical-align: top;\n    }\n\n    .dataframe thead th {\n        text-align: right;\n    }\n</style>\n<table border=\"1\" class=\"dataframe\">\n  <thead>\n    <tr style=\"text-align: right;\">\n      <th></th>\n      <th>sex</th>\n      <th>first_appearance</th>\n      <th>years_since</th>\n      <th>Salary</th>\n    </tr>\n    <tr>\n      <th>name</th>\n      <th></th>\n      <th></th>\n      <th></th>\n      <th></th>\n    </tr>\n  </thead>\n  <tbody>\n    <tr>\n      <th>Wolverine</th>\n      <td>male</td>\n      <td>1974</td>\n      <td>48</td>\n      <td>15000 USD</td>\n    </tr>\n    <tr>\n      <th>Storm</th>\n      <td>female</td>\n      <td>1975</td>\n      <td>47</td>\n      <td>15000 USD</td>\n    </tr>\n    <tr>\n      <th>Vision</th>\n      <td>male</td>\n      <td>1984</td>\n      <td>38</td>\n      <td>15000 USD</td>\n    </tr>\n  </tbody>\n</table>\n</div>"
     },
     "metadata": {}
    }
   ],
   "execution_count": null
  },
  {
   "cell_type": "markdown",
   "source": "Muestre todos los heroes de género masculino en el DataFrame cuya aparición fue después de `1970`",
   "metadata": {
    "id": "wKMn2S3ZjaCR",
    "cell_id": "00083-e0180cac-2217-4dfa-8f5d-1d9197bae0b8",
    "deepnote_cell_type": "markdown",
    "deepnote_cell_height": 74.78125
   }
  },
  {
   "cell_type": "code",
   "source": "# Solución propuesta\nm = (df['first_appearance'] > 1970) & (df['sex'] == 'male')\ndf[m]",
   "metadata": {
    "id": "OCLfmYg7jRpA",
    "cell_id": "00084-b214ce23-6a39-4e07-a9c4-9f2ff362b252",
    "deepnote_to_be_reexecuted": false,
    "source_hash": "c1a52d86",
    "execution_start": 1661722509525,
    "execution_millis": 52,
    "deepnote_cell_type": "code",
    "deepnote_cell_height": 303
   },
   "outputs": [
    {
     "output_type": "execute_result",
     "execution_count": 64,
     "data": {
      "application/vnd.deepnote.dataframe.v3+json": {
       "column_count": 4,
       "row_count": 2,
       "columns": [
        {
         "name": "sex",
         "dtype": "object",
         "stats": {
          "unique_count": 1,
          "nan_count": 0,
          "categories": [
           {
            "name": "male",
            "count": 2
           }
          ]
         }
        },
        {
         "name": "first_appearance",
         "dtype": "int64",
         "stats": {
          "unique_count": 2,
          "nan_count": 0,
          "min": "1974",
          "max": "1984",
          "histogram": [
           {
            "bin_start": 1974,
            "bin_end": 1975,
            "count": 1
           },
           {
            "bin_start": 1975,
            "bin_end": 1976,
            "count": 0
           },
           {
            "bin_start": 1976,
            "bin_end": 1977,
            "count": 0
           },
           {
            "bin_start": 1977,
            "bin_end": 1978,
            "count": 0
           },
           {
            "bin_start": 1978,
            "bin_end": 1979,
            "count": 0
           },
           {
            "bin_start": 1979,
            "bin_end": 1980,
            "count": 0
           },
           {
            "bin_start": 1980,
            "bin_end": 1981,
            "count": 0
           },
           {
            "bin_start": 1981,
            "bin_end": 1982,
            "count": 0
           },
           {
            "bin_start": 1982,
            "bin_end": 1983,
            "count": 0
           },
           {
            "bin_start": 1983,
            "bin_end": 1984,
            "count": 1
           }
          ]
         }
        },
        {
         "name": "years_since",
         "dtype": "int64",
         "stats": {
          "unique_count": 2,
          "nan_count": 0,
          "min": "38",
          "max": "48",
          "histogram": [
           {
            "bin_start": 38,
            "bin_end": 39,
            "count": 1
           },
           {
            "bin_start": 39,
            "bin_end": 40,
            "count": 0
           },
           {
            "bin_start": 40,
            "bin_end": 41,
            "count": 0
           },
           {
            "bin_start": 41,
            "bin_end": 42,
            "count": 0
           },
           {
            "bin_start": 42,
            "bin_end": 43,
            "count": 0
           },
           {
            "bin_start": 43,
            "bin_end": 44,
            "count": 0
           },
           {
            "bin_start": 44,
            "bin_end": 45,
            "count": 0
           },
           {
            "bin_start": 45,
            "bin_end": 46,
            "count": 0
           },
           {
            "bin_start": 46,
            "bin_end": 47,
            "count": 0
           },
           {
            "bin_start": 47,
            "bin_end": 48,
            "count": 1
           }
          ]
         }
        },
        {
         "name": "Salary",
         "dtype": "object",
         "stats": {
          "unique_count": 1,
          "nan_count": 0,
          "categories": [
           {
            "name": "15000 USD",
            "count": 2
           }
          ]
         }
        },
        {
         "name": "_deepnote_index_column",
         "dtype": "object"
        }
       ],
       "rows": [
        {
         "sex": "male",
         "first_appearance": 1974,
         "years_since": 48,
         "Salary": "15000 USD",
         "_deepnote_index_column": "Wolverine"
        },
        {
         "sex": "male",
         "first_appearance": 1984,
         "years_since": 38,
         "Salary": "15000 USD",
         "_deepnote_index_column": "Vision"
        }
       ]
      },
      "text/plain": "            sex  first_appearance  years_since     Salary\nname                                                     \nWolverine  male              1974           48  15000 USD\nVision     male              1984           38  15000 USD",
      "text/html": "<div>\n<style scoped>\n    .dataframe tbody tr th:only-of-type {\n        vertical-align: middle;\n    }\n\n    .dataframe tbody tr th {\n        vertical-align: top;\n    }\n\n    .dataframe thead th {\n        text-align: right;\n    }\n</style>\n<table border=\"1\" class=\"dataframe\">\n  <thead>\n    <tr style=\"text-align: right;\">\n      <th></th>\n      <th>sex</th>\n      <th>first_appearance</th>\n      <th>years_since</th>\n      <th>Salary</th>\n    </tr>\n    <tr>\n      <th>name</th>\n      <th></th>\n      <th></th>\n      <th></th>\n      <th></th>\n    </tr>\n  </thead>\n  <tbody>\n    <tr>\n      <th>Wolverine</th>\n      <td>male</td>\n      <td>1974</td>\n      <td>48</td>\n      <td>15000 USD</td>\n    </tr>\n    <tr>\n      <th>Vision</th>\n      <td>male</td>\n      <td>1984</td>\n      <td>38</td>\n      <td>15000 USD</td>\n    </tr>\n  </tbody>\n</table>\n</div>"
     },
     "metadata": {}
    }
   ],
   "execution_count": null
  },
  {
   "cell_type": "markdown",
   "source": "Muestre todos los herores de género femenino cuya aparición fue antes de 1980",
   "metadata": {
    "id": "JBLX-LmQb10S",
    "cell_id": "00085-60e99c91-0ea6-42f8-a853-bd87eacdfd05",
    "deepnote_cell_type": "markdown",
    "deepnote_cell_height": 52.390625
   }
  },
  {
   "cell_type": "code",
   "source": "# Solución propuesta\nf = (df['first_appearance'] > 1980) & (df['sex'] == 'female')\ndf[f]",
   "metadata": {
    "id": "0wVANeGicKUV",
    "cell_id": "00086-86a7a09a-8924-4a60-be2f-7c6678e84d47",
    "deepnote_to_be_reexecuted": false,
    "source_hash": "521b2b83",
    "execution_start": 1661722547443,
    "execution_millis": 36,
    "deepnote_cell_type": "code",
    "deepnote_cell_height": 221
   },
   "outputs": [
    {
     "output_type": "execute_result",
     "execution_count": 65,
     "data": {
      "application/vnd.deepnote.dataframe.v3+json": {
       "column_count": 4,
       "row_count": 0,
       "columns": [
        {
         "name": "sex",
         "dtype": "object",
         "stats": {
          "unique_count": 0,
          "nan_count": 0,
          "categories": []
         }
        },
        {
         "name": "first_appearance",
         "dtype": "int64",
         "stats": {
          "unique_count": 0,
          "nan_count": 0,
          "min": null,
          "max": null,
          "histogram": [
           {
            "bin_start": 0,
            "bin_end": 0.1,
            "count": 0
           },
           {
            "bin_start": 0.1,
            "bin_end": 0.2,
            "count": 0
           },
           {
            "bin_start": 0.2,
            "bin_end": 0.30000000000000004,
            "count": 0
           },
           {
            "bin_start": 0.30000000000000004,
            "bin_end": 0.4,
            "count": 0
           },
           {
            "bin_start": 0.4,
            "bin_end": 0.5,
            "count": 0
           },
           {
            "bin_start": 0.5,
            "bin_end": 0.6000000000000001,
            "count": 0
           },
           {
            "bin_start": 0.6000000000000001,
            "bin_end": 0.7000000000000001,
            "count": 0
           },
           {
            "bin_start": 0.7000000000000001,
            "bin_end": 0.8,
            "count": 0
           },
           {
            "bin_start": 0.8,
            "bin_end": 0.9,
            "count": 0
           },
           {
            "bin_start": 0.9,
            "bin_end": 1,
            "count": 0
           }
          ]
         }
        },
        {
         "name": "years_since",
         "dtype": "int64",
         "stats": {
          "unique_count": 0,
          "nan_count": 0,
          "min": null,
          "max": null,
          "histogram": [
           {
            "bin_start": 0,
            "bin_end": 0.1,
            "count": 0
           },
           {
            "bin_start": 0.1,
            "bin_end": 0.2,
            "count": 0
           },
           {
            "bin_start": 0.2,
            "bin_end": 0.30000000000000004,
            "count": 0
           },
           {
            "bin_start": 0.30000000000000004,
            "bin_end": 0.4,
            "count": 0
           },
           {
            "bin_start": 0.4,
            "bin_end": 0.5,
            "count": 0
           },
           {
            "bin_start": 0.5,
            "bin_end": 0.6000000000000001,
            "count": 0
           },
           {
            "bin_start": 0.6000000000000001,
            "bin_end": 0.7000000000000001,
            "count": 0
           },
           {
            "bin_start": 0.7000000000000001,
            "bin_end": 0.8,
            "count": 0
           },
           {
            "bin_start": 0.8,
            "bin_end": 0.9,
            "count": 0
           },
           {
            "bin_start": 0.9,
            "bin_end": 1,
            "count": 0
           }
          ]
         }
        },
        {
         "name": "Salary",
         "dtype": "object",
         "stats": {
          "unique_count": 0,
          "nan_count": 0,
          "categories": []
         }
        },
        {
         "name": "_deepnote_index_column",
         "dtype": "object"
        }
       ],
       "rows": []
      },
      "text/plain": "Empty DataFrame\nColumns: [sex, first_appearance, years_since, Salary]\nIndex: []",
      "text/html": "<div>\n<style scoped>\n    .dataframe tbody tr th:only-of-type {\n        vertical-align: middle;\n    }\n\n    .dataframe tbody tr th {\n        vertical-align: top;\n    }\n\n    .dataframe thead th {\n        text-align: right;\n    }\n</style>\n<table border=\"1\" class=\"dataframe\">\n  <thead>\n    <tr style=\"text-align: right;\">\n      <th></th>\n      <th>sex</th>\n      <th>first_appearance</th>\n      <th>years_since</th>\n      <th>Salary</th>\n    </tr>\n    <tr>\n      <th>name</th>\n      <th></th>\n      <th></th>\n      <th></th>\n      <th></th>\n    </tr>\n  </thead>\n  <tbody>\n  </tbody>\n</table>\n</div>"
     },
     "metadata": {}
    }
   ],
   "execution_count": null
  },
  {
   "cell_type": "markdown",
   "source": "## __Estadísticas__",
   "metadata": {
    "id": "ftoRgJ73j921",
    "cell_id": "00087-8a5b76c8-1240-43d0-8eed-6369e5ae5a89",
    "deepnote_cell_type": "markdown",
    "deepnote_cell_height": 70
   }
  },
  {
   "cell_type": "markdown",
   "source": "Presente un resumen estadístico de cada una de las columnas en el DataFrame",
   "metadata": {
    "id": "1AlV8ObwkQ6e",
    "cell_id": "00088-897c02f7-d4b0-45c6-8157-e72dcf297967",
    "deepnote_cell_type": "markdown",
    "deepnote_cell_height": 52.390625
   }
  },
  {
   "cell_type": "code",
   "source": "# Solución propuesta\ndf.describe()",
   "metadata": {
    "id": "WRrzR5UmkXBS",
    "cell_id": "00089-d81fb7a8-e18d-4b2b-9b6d-cf90ab06d849",
    "deepnote_to_be_reexecuted": false,
    "source_hash": "fc5ad87",
    "execution_start": 1661722890763,
    "execution_millis": 30,
    "deepnote_cell_type": "code",
    "deepnote_cell_height": 531
   },
   "outputs": [
    {
     "output_type": "execute_result",
     "execution_count": 68,
     "data": {
      "application/vnd.deepnote.dataframe.v3+json": {
       "column_count": 2,
       "row_count": 8,
       "columns": [
        {
         "name": "first_appearance",
         "dtype": "float64",
         "stats": {
          "unique_count": 8,
          "nan_count": 0,
          "min": "9.685990969055856",
          "max": "1984.0",
          "histogram": [
           {
            "bin_start": 9.685990969055856,
            "bin_end": 207.11739187215028,
            "count": 2
           },
           {
            "bin_start": 207.11739187215028,
            "bin_end": 404.5487927752447,
            "count": 0
           },
           {
            "bin_start": 404.5487927752447,
            "bin_end": 601.9801936783391,
            "count": 0
           },
           {
            "bin_start": 601.9801936783391,
            "bin_end": 799.4115945814335,
            "count": 0
           },
           {
            "bin_start": 799.4115945814335,
            "bin_end": 996.8429954845279,
            "count": 0
           },
           {
            "bin_start": 996.8429954845279,
            "bin_end": 1194.2743963876223,
            "count": 0
           },
           {
            "bin_start": 1194.2743963876223,
            "bin_end": 1391.7057972907166,
            "count": 0
           },
           {
            "bin_start": 1391.7057972907166,
            "bin_end": 1589.1371981938112,
            "count": 0
           },
           {
            "bin_start": 1589.1371981938112,
            "bin_end": 1786.5685990969057,
            "count": 0
           },
           {
            "bin_start": 1786.5685990969057,
            "bin_end": 1984,
            "count": 6
           }
          ]
         }
        },
        {
         "name": "years_since",
         "dtype": "float64",
         "stats": {
          "unique_count": 8,
          "nan_count": 0,
          "min": "9.685990969055855",
          "max": "83.0",
          "histogram": [
           {
            "bin_start": 9.685990969055855,
            "bin_end": 17.01739187215027,
            "count": 1
           },
           {
            "bin_start": 17.01739187215027,
            "bin_end": 24.348792775244682,
            "count": 1
           },
           {
            "bin_start": 24.348792775244682,
            "bin_end": 31.680193678339098,
            "count": 0
           },
           {
            "bin_start": 31.680193678339098,
            "bin_end": 39.01159458143351,
            "count": 1
           },
           {
            "bin_start": 39.01159458143351,
            "bin_end": 46.34299548452793,
            "count": 0
           },
           {
            "bin_start": 46.34299548452793,
            "bin_end": 53.67439638762234,
            "count": 0
           },
           {
            "bin_start": 53.67439638762234,
            "bin_end": 61.00579729071676,
            "count": 4
           },
           {
            "bin_start": 61.00579729071676,
            "bin_end": 68.33719819381118,
            "count": 0
           },
           {
            "bin_start": 68.33719819381118,
            "bin_end": 75.66859909690558,
            "count": 0
           },
           {
            "bin_start": 75.66859909690558,
            "bin_end": 83,
            "count": 1
           }
          ]
         }
        },
        {
         "name": "_deepnote_index_column",
         "dtype": "object"
        }
       ],
       "rows": [
        {
         "first_appearance": 20,
         "years_since": 20,
         "_deepnote_index_column": "count"
        },
        {
         "first_appearance": 1962.65,
         "years_since": 59.35,
         "_deepnote_index_column": "mean"
        },
        {
         "first_appearance": 9.685990969055856,
         "years_since": 9.685990969055855,
         "_deepnote_index_column": "std"
        },
        {
         "first_appearance": 1939,
         "years_since": 38,
         "_deepnote_index_column": "min"
        },
        {
         "first_appearance": 1961.75,
         "years_since": 58,
         "_deepnote_index_column": "25%"
        },
        {
         "first_appearance": 1963,
         "years_since": 59,
         "_deepnote_index_column": "50%"
        },
        {
         "first_appearance": 1964,
         "years_since": 60.25,
         "_deepnote_index_column": "75%"
        },
        {
         "first_appearance": 1984,
         "years_since": 83,
         "_deepnote_index_column": "max"
        }
       ]
      },
      "text/plain": "       first_appearance  years_since\ncount         20.000000    20.000000\nmean        1962.650000    59.350000\nstd            9.685991     9.685991\nmin         1939.000000    38.000000\n25%         1961.750000    58.000000\n50%         1963.000000    59.000000\n75%         1964.000000    60.250000\nmax         1984.000000    83.000000",
      "text/html": "<div>\n<style scoped>\n    .dataframe tbody tr th:only-of-type {\n        vertical-align: middle;\n    }\n\n    .dataframe tbody tr th {\n        vertical-align: top;\n    }\n\n    .dataframe thead th {\n        text-align: right;\n    }\n</style>\n<table border=\"1\" class=\"dataframe\">\n  <thead>\n    <tr style=\"text-align: right;\">\n      <th></th>\n      <th>first_appearance</th>\n      <th>years_since</th>\n    </tr>\n  </thead>\n  <tbody>\n    <tr>\n      <th>count</th>\n      <td>20.000000</td>\n      <td>20.000000</td>\n    </tr>\n    <tr>\n      <th>mean</th>\n      <td>1962.650000</td>\n      <td>59.350000</td>\n    </tr>\n    <tr>\n      <th>std</th>\n      <td>9.685991</td>\n      <td>9.685991</td>\n    </tr>\n    <tr>\n      <th>min</th>\n      <td>1939.000000</td>\n      <td>38.000000</td>\n    </tr>\n    <tr>\n      <th>25%</th>\n      <td>1961.750000</td>\n      <td>58.000000</td>\n    </tr>\n    <tr>\n      <th>50%</th>\n      <td>1963.000000</td>\n      <td>59.000000</td>\n    </tr>\n    <tr>\n      <th>75%</th>\n      <td>1964.000000</td>\n      <td>60.250000</td>\n    </tr>\n    <tr>\n      <th>max</th>\n      <td>1984.000000</td>\n      <td>83.000000</td>\n    </tr>\n  </tbody>\n</table>\n</div>"
     },
     "metadata": {}
    }
   ],
   "execution_count": null
  },
  {
   "cell_type": "markdown",
   "source": "Muestre la media, el míinimo y el máximo de la primera aparición",
   "metadata": {
    "id": "JEmylvoekXoo",
    "cell_id": "00090-908d6e5b-fc30-4bdc-a44e-52c0221694c4",
    "deepnote_cell_type": "markdown",
    "deepnote_cell_height": 52.390625
   }
  },
  {
   "cell_type": "code",
   "source": "# Solución propuesta\nmedia = df['first_appearance'].mean()\nminimo = df['first_appearance'].min()\nmaximo = df['first_appearance'].max()\nprint(\"La media de la primera aparción es de : \", media)\nprint(\"El mínimo de la primera aparción es de : \", minimo)\nprint(\"El máximo de la primera aparción es de : \", maximo)",
   "metadata": {
    "id": "vRrEqCMGkoiQ",
    "cell_id": "00091-7676ca1f-6334-4077-91fe-acc6719c5c65",
    "deepnote_to_be_reexecuted": false,
    "source_hash": "edeb585e",
    "execution_start": 1661723091601,
    "execution_millis": 32010,
    "deepnote_cell_type": "code",
    "deepnote_cell_height": 255.5625
   },
   "outputs": [
    {
     "name": "stdout",
     "text": "La media de la primera aparción es de :  1962.65\nEl mínimo de la primera aparción es de :  1939\nEl máximo de la primera aparción es de :  1984\n",
     "output_type": "stream"
    }
   ],
   "execution_count": null
  },
  {
   "cell_type": "markdown",
   "source": "Muestre los nombres de los Heroes cuyo año de primera aparición está por debajo de la media",
   "metadata": {
    "id": "fecYrgWelJcG",
    "cell_id": "00092-a328842f-228c-481a-bb70-b00c9214be74",
    "deepnote_cell_type": "markdown",
    "deepnote_cell_height": 74.78125
   }
  },
  {
   "cell_type": "code",
   "source": "# Solución propuesta\nmedia = df['first_appearance'].mean()\n\nheroe = df['first_appearance'] < media\ndf[heroe]",
   "metadata": {
    "id": "ymCQxpTClTzm",
    "cell_id": "00093-4717ab91-5f3f-49c6-bc1d-bbdb6c2f5cc9",
    "deepnote_to_be_reexecuted": false,
    "source_hash": "e5785485",
    "execution_start": 1661723169345,
    "execution_millis": 40,
    "deepnote_cell_type": "code",
    "deepnote_cell_height": 585
   },
   "outputs": [
    {
     "output_type": "execute_result",
     "execution_count": 74,
     "data": {
      "application/vnd.deepnote.dataframe.v3+json": {
       "column_count": 4,
       "row_count": 8,
       "columns": [
        {
         "name": "sex",
         "dtype": "object",
         "stats": {
          "unique_count": 2,
          "nan_count": 0,
          "categories": [
           {
            "name": "male",
            "count": 7
           },
           {
            "name": "female",
            "count": 1
           }
          ]
         }
        },
        {
         "name": "first_appearance",
         "dtype": "int64",
         "stats": {
          "unique_count": 4,
          "nan_count": 0,
          "min": "1939",
          "max": "1962",
          "histogram": [
           {
            "bin_start": 1939,
            "bin_end": 1941.3,
            "count": 2
           },
           {
            "bin_start": 1941.3,
            "bin_end": 1943.6,
            "count": 0
           },
           {
            "bin_start": 1943.6,
            "bin_end": 1945.9,
            "count": 0
           },
           {
            "bin_start": 1945.9,
            "bin_end": 1948.2,
            "count": 0
           },
           {
            "bin_start": 1948.2,
            "bin_end": 1950.5,
            "count": 0
           },
           {
            "bin_start": 1950.5,
            "bin_end": 1952.8,
            "count": 0
           },
           {
            "bin_start": 1952.8,
            "bin_end": 1955.1,
            "count": 0
           },
           {
            "bin_start": 1955.1,
            "bin_end": 1957.4,
            "count": 0
           },
           {
            "bin_start": 1957.4,
            "bin_end": 1959.7,
            "count": 0
           },
           {
            "bin_start": 1959.7,
            "bin_end": 1962,
            "count": 6
           }
          ]
         }
        },
        {
         "name": "years_since",
         "dtype": "int64",
         "stats": {
          "unique_count": 4,
          "nan_count": 0,
          "min": "60",
          "max": "83",
          "histogram": [
           {
            "bin_start": 60,
            "bin_end": 62.3,
            "count": 6
           },
           {
            "bin_start": 62.3,
            "bin_end": 64.6,
            "count": 0
           },
           {
            "bin_start": 64.6,
            "bin_end": 66.9,
            "count": 0
           },
           {
            "bin_start": 66.9,
            "bin_end": 69.2,
            "count": 0
           },
           {
            "bin_start": 69.2,
            "bin_end": 71.5,
            "count": 0
           },
           {
            "bin_start": 71.5,
            "bin_end": 73.8,
            "count": 0
           },
           {
            "bin_start": 73.8,
            "bin_end": 76.1,
            "count": 0
           },
           {
            "bin_start": 76.1,
            "bin_end": 78.4,
            "count": 0
           },
           {
            "bin_start": 78.4,
            "bin_end": 80.7,
            "count": 0
           },
           {
            "bin_start": 80.7,
            "bin_end": 83,
            "count": 2
           }
          ]
         }
        },
        {
         "name": "Salary",
         "dtype": "object",
         "stats": {
          "unique_count": 1,
          "nan_count": 0,
          "categories": [
           {
            "name": "15000 USD",
            "count": 8
           }
          ]
         }
        },
        {
         "name": "_deepnote_index_column",
         "dtype": "object"
        }
       ],
       "rows": [
        {
         "sex": "male",
         "first_appearance": 1962,
         "years_since": 60,
         "Salary": "15000 USD",
         "_deepnote_index_column": "Spider-Man"
        },
        {
         "sex": "male",
         "first_appearance": 1941,
         "years_since": 81,
         "Salary": "15000 USD",
         "_deepnote_index_column": "Captain America"
        },
        {
         "sex": "male",
         "first_appearance": 1961,
         "years_since": 61,
         "Salary": "15000 USD",
         "_deepnote_index_column": "Thing"
        },
        {
         "sex": "male",
         "first_appearance": 1961,
         "years_since": 61,
         "Salary": "15000 USD",
         "_deepnote_index_column": "Mister Fantastic"
        },
        {
         "sex": "male",
         "first_appearance": 1962,
         "years_since": 60,
         "Salary": "15000 USD",
         "_deepnote_index_column": "Hulk"
        },
        {
         "sex": "female",
         "first_appearance": 1961,
         "years_since": 61,
         "Salary": "15000 USD",
         "_deepnote_index_column": "Invisible Woman"
        },
        {
         "sex": "male",
         "first_appearance": 1939,
         "years_since": 83,
         "Salary": "15000 USD",
         "_deepnote_index_column": "Namor"
        },
        {
         "sex": "male",
         "first_appearance": 1962,
         "years_since": 60,
         "Salary": "15000 USD",
         "_deepnote_index_column": "Hank Pym"
        }
       ]
      },
      "text/plain": "                     sex  first_appearance  years_since     Salary\nname                                                              \nSpider-Man          male              1962           60  15000 USD\nCaptain America     male              1941           81  15000 USD\nThing               male              1961           61  15000 USD\nMister Fantastic    male              1961           61  15000 USD\nHulk                male              1962           60  15000 USD\nInvisible Woman   female              1961           61  15000 USD\nNamor               male              1939           83  15000 USD\nHank Pym            male              1962           60  15000 USD",
      "text/html": "<div>\n<style scoped>\n    .dataframe tbody tr th:only-of-type {\n        vertical-align: middle;\n    }\n\n    .dataframe tbody tr th {\n        vertical-align: top;\n    }\n\n    .dataframe thead th {\n        text-align: right;\n    }\n</style>\n<table border=\"1\" class=\"dataframe\">\n  <thead>\n    <tr style=\"text-align: right;\">\n      <th></th>\n      <th>sex</th>\n      <th>first_appearance</th>\n      <th>years_since</th>\n      <th>Salary</th>\n    </tr>\n    <tr>\n      <th>name</th>\n      <th></th>\n      <th></th>\n      <th></th>\n      <th></th>\n    </tr>\n  </thead>\n  <tbody>\n    <tr>\n      <th>Spider-Man</th>\n      <td>male</td>\n      <td>1962</td>\n      <td>60</td>\n      <td>15000 USD</td>\n    </tr>\n    <tr>\n      <th>Captain America</th>\n      <td>male</td>\n      <td>1941</td>\n      <td>81</td>\n      <td>15000 USD</td>\n    </tr>\n    <tr>\n      <th>Thing</th>\n      <td>male</td>\n      <td>1961</td>\n      <td>61</td>\n      <td>15000 USD</td>\n    </tr>\n    <tr>\n      <th>Mister Fantastic</th>\n      <td>male</td>\n      <td>1961</td>\n      <td>61</td>\n      <td>15000 USD</td>\n    </tr>\n    <tr>\n      <th>Hulk</th>\n      <td>male</td>\n      <td>1962</td>\n      <td>60</td>\n      <td>15000 USD</td>\n    </tr>\n    <tr>\n      <th>Invisible Woman</th>\n      <td>female</td>\n      <td>1961</td>\n      <td>61</td>\n      <td>15000 USD</td>\n    </tr>\n    <tr>\n      <th>Namor</th>\n      <td>male</td>\n      <td>1939</td>\n      <td>83</td>\n      <td>15000 USD</td>\n    </tr>\n    <tr>\n      <th>Hank Pym</th>\n      <td>male</td>\n      <td>1962</td>\n      <td>60</td>\n      <td>15000 USD</td>\n    </tr>\n  </tbody>\n</table>\n</div>"
     },
     "metadata": {}
    }
   ],
   "execution_count": null
  },
  {
   "cell_type": "markdown",
   "source": "<a style='text-decoration:none;line-height:16px;display:flex;color:#5B5B62;padding:10px;justify-content:end;' href='https://deepnote.com?utm_source=created-in-deepnote-cell&projectId=85aa8e30-88c6-4f5a-ac2d-55976fd47310' target=\"_blank\">\n<img alt='Created in deepnote.com' style='display:inline;max-height:16px;margin:0px;margin-right:7.5px;' src='data:image/svg+xml;base64,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' > </img>\nCreated in <span style='font-weight:600;margin-left:4px;'>Deepnote</span></a>",
   "metadata": {
    "tags": [],
    "created_in_deepnote_cell": true,
    "deepnote_cell_type": "markdown"
   }
  }
 ],
 "nbformat": 4,
 "nbformat_minor": 0,
 "metadata": {
  "colab": {
   "name": "Ejercicios - Pandas.ipynb",
   "provenance": [],
   "collapsed_sections": []
  },
  "kernelspec": {
   "name": "python3",
   "display_name": "Python 3"
  },
  "language_info": {
   "name": "python"
  },
  "deepnote_notebook_id": "de8c01f6-d6fe-4d00-a0c9-8f1c78f62c99",
  "deepnote": {},
  "deepnote_execution_queue": [],
  "deepnote_persisted_session": {
   "filename": "session_dump_de8c01f6-d6fe-4d00-a0c9-8f1c78f62c99.pkl",
   "createdAt": "2022-08-28T22:16:19.768Z"
  }
 }
}